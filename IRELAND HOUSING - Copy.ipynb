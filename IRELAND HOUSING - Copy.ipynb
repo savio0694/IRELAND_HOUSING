{
 "cells": [
  {
   "cell_type": "markdown",
   "metadata": {},
   "source": [
    "## HOUSING IN IRELAND"
   ]
  },
  {
   "cell_type": "markdown",
   "metadata": {},
   "source": [
    "#### Loading Libraries:"
   ]
  },
  {
   "cell_type": "code",
   "execution_count": 337,
   "metadata": {},
   "outputs": [],
   "source": [
    "import pandas as pd\n",
    "import numpy as np\n",
    "import matplotlib.pyplot as plt\n",
    "import seaborn as sns\n",
    "sns.set_style(\"darkgrid\")\n",
    "import os\n",
    "import re"
   ]
  },
  {
   "cell_type": "code",
   "execution_count": 294,
   "metadata": {},
   "outputs": [
    {
     "data": {
      "text/plain": [
       "'C:\\\\Users\\\\leand\\\\Documents\\\\GitHub\\\\IRELAND_HOUSING'"
      ]
     },
     "execution_count": 294,
     "metadata": {},
     "output_type": "execute_result"
    }
   ],
   "source": [
    "os.getcwd()"
   ]
  },
  {
   "cell_type": "markdown",
   "metadata": {},
   "source": [
    "#### The data is sourced from propery price register.ie"
   ]
  },
  {
   "cell_type": "code",
   "execution_count": 295,
   "metadata": {},
   "outputs": [],
   "source": [
    "data=pd.read_csv('Property_Price_Register_Ireland.csv')"
   ]
  },
  {
   "cell_type": "code",
   "execution_count": 296,
   "metadata": {},
   "outputs": [
    {
     "data": {
      "text/plain": [
       "(476711, 9)"
      ]
     },
     "execution_count": 296,
     "metadata": {},
     "output_type": "execute_result"
    }
   ],
   "source": [
    "data.shape"
   ]
  },
  {
   "cell_type": "code",
   "execution_count": 297,
   "metadata": {},
   "outputs": [
    {
     "data": {
      "text/html": [
       "<div>\n",
       "<style scoped>\n",
       "    .dataframe tbody tr th:only-of-type {\n",
       "        vertical-align: middle;\n",
       "    }\n",
       "\n",
       "    .dataframe tbody tr th {\n",
       "        vertical-align: top;\n",
       "    }\n",
       "\n",
       "    .dataframe thead th {\n",
       "        text-align: right;\n",
       "    }\n",
       "</style>\n",
       "<table border=\"1\" class=\"dataframe\">\n",
       "  <thead>\n",
       "    <tr style=\"text-align: right;\">\n",
       "      <th></th>\n",
       "      <th>SALE_DATE</th>\n",
       "      <th>ADDRESS</th>\n",
       "      <th>POSTAL_CODE</th>\n",
       "      <th>COUNTY</th>\n",
       "      <th>SALE_PRICE</th>\n",
       "      <th>IF_MARKET_PRICE</th>\n",
       "      <th>IF_VAT_EXCLUDED</th>\n",
       "      <th>PROPERTY_DESC</th>\n",
       "      <th>PROPERTY_SIZE_DESC</th>\n",
       "    </tr>\n",
       "  </thead>\n",
       "  <tbody>\n",
       "    <tr>\n",
       "      <th>0</th>\n",
       "      <td>2010-01-01</td>\n",
       "      <td>5 Braemor Drive, Churchtown, Co.Dublin</td>\n",
       "      <td>NaN</td>\n",
       "      <td>Dublin</td>\n",
       "      <td>343000.0</td>\n",
       "      <td>0</td>\n",
       "      <td>0</td>\n",
       "      <td>Second-Hand Dwelling house /Apartment</td>\n",
       "      <td>NaN</td>\n",
       "    </tr>\n",
       "    <tr>\n",
       "      <th>1</th>\n",
       "      <td>2010-01-03</td>\n",
       "      <td>134 Ashewood Walk, Summerhill Lane, Portlaoise</td>\n",
       "      <td>NaN</td>\n",
       "      <td>Laois</td>\n",
       "      <td>185000.0</td>\n",
       "      <td>0</td>\n",
       "      <td>1</td>\n",
       "      <td>New Dwelling house /Apartment</td>\n",
       "      <td>greater than or equal to 38 sq metres and less...</td>\n",
       "    </tr>\n",
       "    <tr>\n",
       "      <th>2</th>\n",
       "      <td>2010-01-04</td>\n",
       "      <td>1 Meadow Avenue, Dundrum, Dublin 14</td>\n",
       "      <td>NaN</td>\n",
       "      <td>Dublin</td>\n",
       "      <td>438500.0</td>\n",
       "      <td>0</td>\n",
       "      <td>0</td>\n",
       "      <td>Second-Hand Dwelling house /Apartment</td>\n",
       "      <td>NaN</td>\n",
       "    </tr>\n",
       "    <tr>\n",
       "      <th>3</th>\n",
       "      <td>2010-01-04</td>\n",
       "      <td>1 The Haven, Mornington</td>\n",
       "      <td>NaN</td>\n",
       "      <td>Meath</td>\n",
       "      <td>400000.0</td>\n",
       "      <td>0</td>\n",
       "      <td>0</td>\n",
       "      <td>Second-Hand Dwelling house /Apartment</td>\n",
       "      <td>NaN</td>\n",
       "    </tr>\n",
       "    <tr>\n",
       "      <th>4</th>\n",
       "      <td>2010-01-04</td>\n",
       "      <td>11 Melville Heights, Kilkenny</td>\n",
       "      <td>NaN</td>\n",
       "      <td>Kilkenny</td>\n",
       "      <td>160000.0</td>\n",
       "      <td>0</td>\n",
       "      <td>0</td>\n",
       "      <td>Second-Hand Dwelling house /Apartment</td>\n",
       "      <td>NaN</td>\n",
       "    </tr>\n",
       "  </tbody>\n",
       "</table>\n",
       "</div>"
      ],
      "text/plain": [
       "    SALE_DATE                                         ADDRESS POSTAL_CODE  \\\n",
       "0  2010-01-01          5 Braemor Drive, Churchtown, Co.Dublin         NaN   \n",
       "1  2010-01-03  134 Ashewood Walk, Summerhill Lane, Portlaoise         NaN   \n",
       "2  2010-01-04             1 Meadow Avenue, Dundrum, Dublin 14         NaN   \n",
       "3  2010-01-04                         1 The Haven, Mornington         NaN   \n",
       "4  2010-01-04                   11 Melville Heights, Kilkenny         NaN   \n",
       "\n",
       "     COUNTY  SALE_PRICE  IF_MARKET_PRICE  IF_VAT_EXCLUDED  \\\n",
       "0    Dublin    343000.0                0                0   \n",
       "1     Laois    185000.0                0                1   \n",
       "2    Dublin    438500.0                0                0   \n",
       "3     Meath    400000.0                0                0   \n",
       "4  Kilkenny    160000.0                0                0   \n",
       "\n",
       "                           PROPERTY_DESC  \\\n",
       "0  Second-Hand Dwelling house /Apartment   \n",
       "1          New Dwelling house /Apartment   \n",
       "2  Second-Hand Dwelling house /Apartment   \n",
       "3  Second-Hand Dwelling house /Apartment   \n",
       "4  Second-Hand Dwelling house /Apartment   \n",
       "\n",
       "                                  PROPERTY_SIZE_DESC  \n",
       "0                                                NaN  \n",
       "1  greater than or equal to 38 sq metres and less...  \n",
       "2                                                NaN  \n",
       "3                                                NaN  \n",
       "4                                                NaN  "
      ]
     },
     "execution_count": 297,
     "metadata": {},
     "output_type": "execute_result"
    }
   ],
   "source": [
    "data.head()"
   ]
  },
  {
   "cell_type": "code",
   "execution_count": 298,
   "metadata": {},
   "outputs": [
    {
     "data": {
      "text/plain": [
       "SALE_DATE              object\n",
       "ADDRESS                object\n",
       "POSTAL_CODE            object\n",
       "COUNTY                 object\n",
       "SALE_PRICE            float64\n",
       "IF_MARKET_PRICE         int64\n",
       "IF_VAT_EXCLUDED         int64\n",
       "PROPERTY_DESC          object\n",
       "PROPERTY_SIZE_DESC     object\n",
       "dtype: object"
      ]
     },
     "execution_count": 298,
     "metadata": {},
     "output_type": "execute_result"
    }
   ],
   "source": [
    "data.dtypes"
   ]
  },
  {
   "cell_type": "markdown",
   "metadata": {},
   "source": [
    "#### Converting the date column to its proper datetime type"
   ]
  },
  {
   "cell_type": "code",
   "execution_count": 299,
   "metadata": {},
   "outputs": [],
   "source": [
    "data['SALE_DATE']=pd.to_datetime(data['SALE_DATE'])\n",
    "#data['SALE_PRICE']=pd.to_numeric(data['SALE_PRICE'])"
   ]
  },
  {
   "cell_type": "code",
   "execution_count": 300,
   "metadata": {},
   "outputs": [
    {
     "data": {
      "text/plain": [
       "SALE_DATE             datetime64[ns]\n",
       "ADDRESS                       object\n",
       "POSTAL_CODE                   object\n",
       "COUNTY                        object\n",
       "SALE_PRICE                   float64\n",
       "IF_MARKET_PRICE                int64\n",
       "IF_VAT_EXCLUDED                int64\n",
       "PROPERTY_DESC                 object\n",
       "PROPERTY_SIZE_DESC            object\n",
       "dtype: object"
      ]
     },
     "execution_count": 300,
     "metadata": {},
     "output_type": "execute_result"
    }
   ],
   "source": [
    "data.dtypes"
   ]
  },
  {
   "cell_type": "markdown",
   "metadata": {},
   "source": [
    "#### As post code and property description columns are mosly empty,ignore them"
   ]
  },
  {
   "cell_type": "code",
   "execution_count": 301,
   "metadata": {},
   "outputs": [
    {
     "data": {
      "text/plain": [
       "SALE_DATE                  0\n",
       "ADDRESS                    0\n",
       "POSTAL_CODE           386961\n",
       "COUNTY                     0\n",
       "SALE_PRICE                 0\n",
       "IF_MARKET_PRICE            0\n",
       "IF_VAT_EXCLUDED            0\n",
       "PROPERTY_DESC              0\n",
       "PROPERTY_SIZE_DESC    423922\n",
       "dtype: int64"
      ]
     },
     "execution_count": 301,
     "metadata": {},
     "output_type": "execute_result"
    }
   ],
   "source": [
    "data.isnull().sum()"
   ]
  },
  {
   "cell_type": "code",
   "execution_count": 302,
   "metadata": {},
   "outputs": [],
   "source": [
    "data=data.iloc[:,[0,1,3,4,5,6,7]]"
   ]
  },
  {
   "cell_type": "markdown",
   "metadata": {},
   "source": [
    "#### Define functions to trim the address and property description to be more concise and readable."
   ]
  },
  {
   "cell_type": "code",
   "execution_count": 303,
   "metadata": {},
   "outputs": [],
   "source": [
    "TRIM_PROPERTY = lambda x: re.search(r\"^([\\S]+)\", x).group()\n",
    "TRIM_ADDRESS= lambda x: re.split(\",\", x)[-1]"
   ]
  },
  {
   "cell_type": "code",
   "execution_count": 304,
   "metadata": {},
   "outputs": [],
   "source": [
    "data['PROPERTY_DESC']=data.iloc[:,6].apply(TRIM_PROPERTY)\n"
   ]
  },
  {
   "cell_type": "code",
   "execution_count": 305,
   "metadata": {},
   "outputs": [],
   "source": [
    "data['ADDRESS']=data.iloc[:,1].apply(TRIM_ADDRESS)"
   ]
  },
  {
   "cell_type": "markdown",
   "metadata": {},
   "source": [
    "#### Create a mortgage interest rate column,set to 1 for now"
   ]
  },
  {
   "cell_type": "code",
   "execution_count": 306,
   "metadata": {},
   "outputs": [],
   "source": [
    "data['MORTGAGE_RATE']=1"
   ]
  },
  {
   "cell_type": "code",
   "execution_count": 307,
   "metadata": {},
   "outputs": [
    {
     "data": {
      "text/html": [
       "<div>\n",
       "<style scoped>\n",
       "    .dataframe tbody tr th:only-of-type {\n",
       "        vertical-align: middle;\n",
       "    }\n",
       "\n",
       "    .dataframe tbody tr th {\n",
       "        vertical-align: top;\n",
       "    }\n",
       "\n",
       "    .dataframe thead th {\n",
       "        text-align: right;\n",
       "    }\n",
       "</style>\n",
       "<table border=\"1\" class=\"dataframe\">\n",
       "  <thead>\n",
       "    <tr style=\"text-align: right;\">\n",
       "      <th></th>\n",
       "      <th>SALE_DATE</th>\n",
       "      <th>ADDRESS</th>\n",
       "      <th>COUNTY</th>\n",
       "      <th>SALE_PRICE</th>\n",
       "      <th>IF_MARKET_PRICE</th>\n",
       "      <th>IF_VAT_EXCLUDED</th>\n",
       "      <th>PROPERTY_DESC</th>\n",
       "      <th>MORTGAGE_RATE</th>\n",
       "    </tr>\n",
       "  </thead>\n",
       "  <tbody>\n",
       "    <tr>\n",
       "      <th>0</th>\n",
       "      <td>2010-01-01</td>\n",
       "      <td>Co.Dublin</td>\n",
       "      <td>Dublin</td>\n",
       "      <td>343000.0</td>\n",
       "      <td>0</td>\n",
       "      <td>0</td>\n",
       "      <td>Second-Hand</td>\n",
       "      <td>1</td>\n",
       "    </tr>\n",
       "    <tr>\n",
       "      <th>1</th>\n",
       "      <td>2010-01-03</td>\n",
       "      <td>Portlaoise</td>\n",
       "      <td>Laois</td>\n",
       "      <td>185000.0</td>\n",
       "      <td>0</td>\n",
       "      <td>1</td>\n",
       "      <td>New</td>\n",
       "      <td>1</td>\n",
       "    </tr>\n",
       "    <tr>\n",
       "      <th>2</th>\n",
       "      <td>2010-01-04</td>\n",
       "      <td>Dublin 14</td>\n",
       "      <td>Dublin</td>\n",
       "      <td>438500.0</td>\n",
       "      <td>0</td>\n",
       "      <td>0</td>\n",
       "      <td>Second-Hand</td>\n",
       "      <td>1</td>\n",
       "    </tr>\n",
       "    <tr>\n",
       "      <th>3</th>\n",
       "      <td>2010-01-04</td>\n",
       "      <td>Mornington</td>\n",
       "      <td>Meath</td>\n",
       "      <td>400000.0</td>\n",
       "      <td>0</td>\n",
       "      <td>0</td>\n",
       "      <td>Second-Hand</td>\n",
       "      <td>1</td>\n",
       "    </tr>\n",
       "    <tr>\n",
       "      <th>4</th>\n",
       "      <td>2010-01-04</td>\n",
       "      <td>Kilkenny</td>\n",
       "      <td>Kilkenny</td>\n",
       "      <td>160000.0</td>\n",
       "      <td>0</td>\n",
       "      <td>0</td>\n",
       "      <td>Second-Hand</td>\n",
       "      <td>1</td>\n",
       "    </tr>\n",
       "    <tr>\n",
       "      <th>...</th>\n",
       "      <td>...</td>\n",
       "      <td>...</td>\n",
       "      <td>...</td>\n",
       "      <td>...</td>\n",
       "      <td>...</td>\n",
       "      <td>...</td>\n",
       "      <td>...</td>\n",
       "      <td>...</td>\n",
       "    </tr>\n",
       "    <tr>\n",
       "      <th>476706</th>\n",
       "      <td>2021-05-28</td>\n",
       "      <td>MULLINGAR</td>\n",
       "      <td>Westmeath</td>\n",
       "      <td>150000.0</td>\n",
       "      <td>0</td>\n",
       "      <td>0</td>\n",
       "      <td>Second-Hand</td>\n",
       "      <td>1</td>\n",
       "    </tr>\n",
       "    <tr>\n",
       "      <th>476707</th>\n",
       "      <td>2021-05-28</td>\n",
       "      <td>BORRIS</td>\n",
       "      <td>Carlow</td>\n",
       "      <td>170000.0</td>\n",
       "      <td>1</td>\n",
       "      <td>0</td>\n",
       "      <td>Second-Hand</td>\n",
       "      <td>1</td>\n",
       "    </tr>\n",
       "    <tr>\n",
       "      <th>476708</th>\n",
       "      <td>2021-05-28</td>\n",
       "      <td>WESTMEATH</td>\n",
       "      <td>Westmeath</td>\n",
       "      <td>175000.0</td>\n",
       "      <td>0</td>\n",
       "      <td>0</td>\n",
       "      <td>Second-Hand</td>\n",
       "      <td>1</td>\n",
       "    </tr>\n",
       "    <tr>\n",
       "      <th>476709</th>\n",
       "      <td>2021-05-28</td>\n",
       "      <td>GLENGARIFF</td>\n",
       "      <td>Cork</td>\n",
       "      <td>240000.0</td>\n",
       "      <td>0</td>\n",
       "      <td>0</td>\n",
       "      <td>Second-Hand</td>\n",
       "      <td>1</td>\n",
       "    </tr>\n",
       "    <tr>\n",
       "      <th>476710</th>\n",
       "      <td>2021-05-28</td>\n",
       "      <td>COOTEHILL</td>\n",
       "      <td>Cavan</td>\n",
       "      <td>47000.0</td>\n",
       "      <td>0</td>\n",
       "      <td>0</td>\n",
       "      <td>Second-Hand</td>\n",
       "      <td>1</td>\n",
       "    </tr>\n",
       "  </tbody>\n",
       "</table>\n",
       "<p>476711 rows × 8 columns</p>\n",
       "</div>"
      ],
      "text/plain": [
       "        SALE_DATE      ADDRESS     COUNTY  SALE_PRICE  IF_MARKET_PRICE  \\\n",
       "0      2010-01-01    Co.Dublin     Dublin    343000.0                0   \n",
       "1      2010-01-03   Portlaoise      Laois    185000.0                0   \n",
       "2      2010-01-04    Dublin 14     Dublin    438500.0                0   \n",
       "3      2010-01-04   Mornington      Meath    400000.0                0   \n",
       "4      2010-01-04     Kilkenny   Kilkenny    160000.0                0   \n",
       "...           ...          ...        ...         ...              ...   \n",
       "476706 2021-05-28    MULLINGAR  Westmeath    150000.0                0   \n",
       "476707 2021-05-28       BORRIS     Carlow    170000.0                1   \n",
       "476708 2021-05-28    WESTMEATH  Westmeath    175000.0                0   \n",
       "476709 2021-05-28   GLENGARIFF       Cork    240000.0                0   \n",
       "476710 2021-05-28    COOTEHILL      Cavan     47000.0                0   \n",
       "\n",
       "        IF_VAT_EXCLUDED PROPERTY_DESC  MORTGAGE_RATE  \n",
       "0                     0   Second-Hand              1  \n",
       "1                     1           New              1  \n",
       "2                     0   Second-Hand              1  \n",
       "3                     0   Second-Hand              1  \n",
       "4                     0   Second-Hand              1  \n",
       "...                 ...           ...            ...  \n",
       "476706                0   Second-Hand              1  \n",
       "476707                0   Second-Hand              1  \n",
       "476708                0   Second-Hand              1  \n",
       "476709                0   Second-Hand              1  \n",
       "476710                0   Second-Hand              1  \n",
       "\n",
       "[476711 rows x 8 columns]"
      ]
     },
     "execution_count": 307,
     "metadata": {},
     "output_type": "execute_result"
    }
   ],
   "source": [
    "data"
   ]
  },
  {
   "cell_type": "markdown",
   "metadata": {},
   "source": [
    "#### Mapping the year of sale to the average mortgage lending rate for tha year, mortgage rates have been obtained from the \n",
    "\n",
    "#### CENTRAL STATISTICS OFFICE IRELAND CSO.ie website"
   ]
  },
  {
   "cell_type": "code",
   "execution_count": 308,
   "metadata": {},
   "outputs": [],
   "source": [
    "def map_interest_rate(year):\n",
    "    mapping = {\n",
    "        2010 : 4.02,\n",
    "2011 : 4.42,\n",
    "2012 : 4.33,\n",
    "2013 : 4.38,\n",
    "2014 : 4.20,\n",
    "2015 : 4.05,\n",
    "2016 : 3.61,\n",
    "2017 : 3.44,\n",
    "2018 : 3.21,\n",
    "2019 : 3.02,\n",
    "2020 : 2.92,\n",
    "2021 : 2.62,\n",
    "    }\n",
    "    \n",
    "    return mapping.get(year, \"nothing\")"
   ]
  },
  {
   "cell_type": "code",
   "execution_count": 309,
   "metadata": {},
   "outputs": [],
   "source": [
    "data['MORTGAGE_RATE']=data['SALE_DATE'].dt.year.apply(map_interest_rate)"
   ]
  },
  {
   "cell_type": "code",
   "execution_count": 310,
   "metadata": {},
   "outputs": [
    {
     "data": {
      "text/html": [
       "<div>\n",
       "<style scoped>\n",
       "    .dataframe tbody tr th:only-of-type {\n",
       "        vertical-align: middle;\n",
       "    }\n",
       "\n",
       "    .dataframe tbody tr th {\n",
       "        vertical-align: top;\n",
       "    }\n",
       "\n",
       "    .dataframe thead th {\n",
       "        text-align: right;\n",
       "    }\n",
       "</style>\n",
       "<table border=\"1\" class=\"dataframe\">\n",
       "  <thead>\n",
       "    <tr style=\"text-align: right;\">\n",
       "      <th></th>\n",
       "      <th>SALE_DATE</th>\n",
       "      <th>ADDRESS</th>\n",
       "      <th>COUNTY</th>\n",
       "      <th>SALE_PRICE</th>\n",
       "      <th>IF_MARKET_PRICE</th>\n",
       "      <th>IF_VAT_EXCLUDED</th>\n",
       "      <th>PROPERTY_DESC</th>\n",
       "      <th>MORTGAGE_RATE</th>\n",
       "    </tr>\n",
       "  </thead>\n",
       "  <tbody>\n",
       "    <tr>\n",
       "      <th>0</th>\n",
       "      <td>2010-01-01</td>\n",
       "      <td>Co.Dublin</td>\n",
       "      <td>Dublin</td>\n",
       "      <td>343000.0</td>\n",
       "      <td>0</td>\n",
       "      <td>0</td>\n",
       "      <td>Second-Hand</td>\n",
       "      <td>4.02</td>\n",
       "    </tr>\n",
       "    <tr>\n",
       "      <th>1</th>\n",
       "      <td>2010-01-03</td>\n",
       "      <td>Portlaoise</td>\n",
       "      <td>Laois</td>\n",
       "      <td>185000.0</td>\n",
       "      <td>0</td>\n",
       "      <td>1</td>\n",
       "      <td>New</td>\n",
       "      <td>4.02</td>\n",
       "    </tr>\n",
       "    <tr>\n",
       "      <th>2</th>\n",
       "      <td>2010-01-04</td>\n",
       "      <td>Dublin 14</td>\n",
       "      <td>Dublin</td>\n",
       "      <td>438500.0</td>\n",
       "      <td>0</td>\n",
       "      <td>0</td>\n",
       "      <td>Second-Hand</td>\n",
       "      <td>4.02</td>\n",
       "    </tr>\n",
       "    <tr>\n",
       "      <th>3</th>\n",
       "      <td>2010-01-04</td>\n",
       "      <td>Mornington</td>\n",
       "      <td>Meath</td>\n",
       "      <td>400000.0</td>\n",
       "      <td>0</td>\n",
       "      <td>0</td>\n",
       "      <td>Second-Hand</td>\n",
       "      <td>4.02</td>\n",
       "    </tr>\n",
       "    <tr>\n",
       "      <th>4</th>\n",
       "      <td>2010-01-04</td>\n",
       "      <td>Kilkenny</td>\n",
       "      <td>Kilkenny</td>\n",
       "      <td>160000.0</td>\n",
       "      <td>0</td>\n",
       "      <td>0</td>\n",
       "      <td>Second-Hand</td>\n",
       "      <td>4.02</td>\n",
       "    </tr>\n",
       "    <tr>\n",
       "      <th>...</th>\n",
       "      <td>...</td>\n",
       "      <td>...</td>\n",
       "      <td>...</td>\n",
       "      <td>...</td>\n",
       "      <td>...</td>\n",
       "      <td>...</td>\n",
       "      <td>...</td>\n",
       "      <td>...</td>\n",
       "    </tr>\n",
       "    <tr>\n",
       "      <th>476706</th>\n",
       "      <td>2021-05-28</td>\n",
       "      <td>MULLINGAR</td>\n",
       "      <td>Westmeath</td>\n",
       "      <td>150000.0</td>\n",
       "      <td>0</td>\n",
       "      <td>0</td>\n",
       "      <td>Second-Hand</td>\n",
       "      <td>2.62</td>\n",
       "    </tr>\n",
       "    <tr>\n",
       "      <th>476707</th>\n",
       "      <td>2021-05-28</td>\n",
       "      <td>BORRIS</td>\n",
       "      <td>Carlow</td>\n",
       "      <td>170000.0</td>\n",
       "      <td>1</td>\n",
       "      <td>0</td>\n",
       "      <td>Second-Hand</td>\n",
       "      <td>2.62</td>\n",
       "    </tr>\n",
       "    <tr>\n",
       "      <th>476708</th>\n",
       "      <td>2021-05-28</td>\n",
       "      <td>WESTMEATH</td>\n",
       "      <td>Westmeath</td>\n",
       "      <td>175000.0</td>\n",
       "      <td>0</td>\n",
       "      <td>0</td>\n",
       "      <td>Second-Hand</td>\n",
       "      <td>2.62</td>\n",
       "    </tr>\n",
       "    <tr>\n",
       "      <th>476709</th>\n",
       "      <td>2021-05-28</td>\n",
       "      <td>GLENGARIFF</td>\n",
       "      <td>Cork</td>\n",
       "      <td>240000.0</td>\n",
       "      <td>0</td>\n",
       "      <td>0</td>\n",
       "      <td>Second-Hand</td>\n",
       "      <td>2.62</td>\n",
       "    </tr>\n",
       "    <tr>\n",
       "      <th>476710</th>\n",
       "      <td>2021-05-28</td>\n",
       "      <td>COOTEHILL</td>\n",
       "      <td>Cavan</td>\n",
       "      <td>47000.0</td>\n",
       "      <td>0</td>\n",
       "      <td>0</td>\n",
       "      <td>Second-Hand</td>\n",
       "      <td>2.62</td>\n",
       "    </tr>\n",
       "  </tbody>\n",
       "</table>\n",
       "<p>476711 rows × 8 columns</p>\n",
       "</div>"
      ],
      "text/plain": [
       "        SALE_DATE      ADDRESS     COUNTY  SALE_PRICE  IF_MARKET_PRICE  \\\n",
       "0      2010-01-01    Co.Dublin     Dublin    343000.0                0   \n",
       "1      2010-01-03   Portlaoise      Laois    185000.0                0   \n",
       "2      2010-01-04    Dublin 14     Dublin    438500.0                0   \n",
       "3      2010-01-04   Mornington      Meath    400000.0                0   \n",
       "4      2010-01-04     Kilkenny   Kilkenny    160000.0                0   \n",
       "...           ...          ...        ...         ...              ...   \n",
       "476706 2021-05-28    MULLINGAR  Westmeath    150000.0                0   \n",
       "476707 2021-05-28       BORRIS     Carlow    170000.0                1   \n",
       "476708 2021-05-28    WESTMEATH  Westmeath    175000.0                0   \n",
       "476709 2021-05-28   GLENGARIFF       Cork    240000.0                0   \n",
       "476710 2021-05-28    COOTEHILL      Cavan     47000.0                0   \n",
       "\n",
       "        IF_VAT_EXCLUDED PROPERTY_DESC  MORTGAGE_RATE  \n",
       "0                     0   Second-Hand           4.02  \n",
       "1                     1           New           4.02  \n",
       "2                     0   Second-Hand           4.02  \n",
       "3                     0   Second-Hand           4.02  \n",
       "4                     0   Second-Hand           4.02  \n",
       "...                 ...           ...            ...  \n",
       "476706                0   Second-Hand           2.62  \n",
       "476707                0   Second-Hand           2.62  \n",
       "476708                0   Second-Hand           2.62  \n",
       "476709                0   Second-Hand           2.62  \n",
       "476710                0   Second-Hand           2.62  \n",
       "\n",
       "[476711 rows x 8 columns]"
      ]
     },
     "execution_count": 310,
     "metadata": {},
     "output_type": "execute_result"
    }
   ],
   "source": [
    "data"
   ]
  },
  {
   "cell_type": "markdown",
   "metadata": {},
   "source": [
    "#### Gathering additional variables like the median household income and deprivation rate for that year as these affect purchasing \n",
    "\n",
    "#### power, data gathered from CSO.IE"
   ]
  },
  {
   "cell_type": "code",
   "execution_count": 311,
   "metadata": {},
   "outputs": [
    {
     "data": {
      "text/html": [
       "<div>\n",
       "<style scoped>\n",
       "    .dataframe tbody tr th:only-of-type {\n",
       "        vertical-align: middle;\n",
       "    }\n",
       "\n",
       "    .dataframe tbody tr th {\n",
       "        vertical-align: top;\n",
       "    }\n",
       "\n",
       "    .dataframe thead th {\n",
       "        text-align: right;\n",
       "    }\n",
       "</style>\n",
       "<table border=\"1\" class=\"dataframe\">\n",
       "  <thead>\n",
       "    <tr style=\"text-align: right;\">\n",
       "      <th></th>\n",
       "      <th>Year</th>\n",
       "      <th>Median Real Household Disposable Income</th>\n",
       "      <th>Mean Real Household Disposable Income</th>\n",
       "      <th>Median Nominal Household Disposable Income</th>\n",
       "      <th>Mean Nominal Real Disposable Income</th>\n",
       "      <th>Median Equivalised Real Disposable Income</th>\n",
       "      <th>Mean Equivalised Real Disposable Income</th>\n",
       "      <th>Median Equivalised Nominal Disposable Income</th>\n",
       "      <th>Mean Equivalised Nominal Disposable Income</th>\n",
       "      <th>At Risk of Povery Rate</th>\n",
       "      <th>Deprivation Rate</th>\n",
       "      <th>Consistent Poverty Rate</th>\n",
       "    </tr>\n",
       "  </thead>\n",
       "  <tbody>\n",
       "    <tr>\n",
       "      <th>0</th>\n",
       "      <td>2019</td>\n",
       "      <td>46,255</td>\n",
       "      <td>55,660</td>\n",
       "      <td>47,373</td>\n",
       "      <td>57,005</td>\n",
       "      <td>26,005</td>\n",
       "      <td>29,613</td>\n",
       "      <td>26,634</td>\n",
       "      <td>30,329</td>\n",
       "      <td>7.3</td>\n",
       "      <td>10.3</td>\n",
       "      <td>1.8</td>\n",
       "    </tr>\n",
       "    <tr>\n",
       "      <th>1</th>\n",
       "      <td>2008</td>\n",
       "      <td>45,233</td>\n",
       "      <td>52,973</td>\n",
       "      <td>45,401</td>\n",
       "      <td>53,170</td>\n",
       "      <td>22,347</td>\n",
       "      <td>26,067</td>\n",
       "      <td>22,430</td>\n",
       "      <td>26,164</td>\n",
       "      <td>11.4</td>\n",
       "      <td>8.6</td>\n",
       "      <td>2.3</td>\n",
       "    </tr>\n",
       "    <tr>\n",
       "      <th>2</th>\n",
       "      <td>2009</td>\n",
       "      <td>42,093</td>\n",
       "      <td>50,078</td>\n",
       "      <td>42,093</td>\n",
       "      <td>50,078</td>\n",
       "      <td>22,397</td>\n",
       "      <td>25,400</td>\n",
       "      <td>22,397</td>\n",
       "      <td>25,400</td>\n",
       "      <td>10.1</td>\n",
       "      <td>9.5</td>\n",
       "      <td>2.5</td>\n",
       "    </tr>\n",
       "    <tr>\n",
       "      <th>3</th>\n",
       "      <td>2010</td>\n",
       "      <td>41,262</td>\n",
       "      <td>49,388</td>\n",
       "      <td>39,801</td>\n",
       "      <td>47,640</td>\n",
       "      <td>21,418</td>\n",
       "      <td>25,085</td>\n",
       "      <td>20,660</td>\n",
       "      <td>24,197</td>\n",
       "      <td>11.5</td>\n",
       "      <td>14.8</td>\n",
       "      <td>3.4</td>\n",
       "    </tr>\n",
       "    <tr>\n",
       "      <th>4</th>\n",
       "      <td>2011</td>\n",
       "      <td>40,711</td>\n",
       "      <td>47,598</td>\n",
       "      <td>39,819</td>\n",
       "      <td>46,555</td>\n",
       "      <td>21,159</td>\n",
       "      <td>24,276</td>\n",
       "      <td>20,695</td>\n",
       "      <td>23,744</td>\n",
       "      <td>10.6</td>\n",
       "      <td>17.2</td>\n",
       "      <td>3.8</td>\n",
       "    </tr>\n",
       "  </tbody>\n",
       "</table>\n",
       "</div>"
      ],
      "text/plain": [
       "   Year Median Real Household Disposable Income  \\\n",
       "0  2019                                  46,255   \n",
       "1  2008                                  45,233   \n",
       "2  2009                                  42,093   \n",
       "3  2010                                  41,262   \n",
       "4  2011                                  40,711   \n",
       "\n",
       "  Mean Real Household Disposable Income  \\\n",
       "0                                55,660   \n",
       "1                                52,973   \n",
       "2                                50,078   \n",
       "3                                49,388   \n",
       "4                                47,598   \n",
       "\n",
       "  Median Nominal Household Disposable Income  \\\n",
       "0                                     47,373   \n",
       "1                                     45,401   \n",
       "2                                     42,093   \n",
       "3                                     39,801   \n",
       "4                                     39,819   \n",
       "\n",
       "  Mean Nominal Real Disposable Income  \\\n",
       "0                              57,005   \n",
       "1                              53,170   \n",
       "2                              50,078   \n",
       "3                              47,640   \n",
       "4                              46,555   \n",
       "\n",
       "  Median Equivalised Real Disposable Income  \\\n",
       "0                                    26,005   \n",
       "1                                    22,347   \n",
       "2                                    22,397   \n",
       "3                                    21,418   \n",
       "4                                    21,159   \n",
       "\n",
       "  Mean Equivalised Real Disposable Income  \\\n",
       "0                                  29,613   \n",
       "1                                  26,067   \n",
       "2                                  25,400   \n",
       "3                                  25,085   \n",
       "4                                  24,276   \n",
       "\n",
       "  Median Equivalised Nominal Disposable Income  \\\n",
       "0                                       26,634   \n",
       "1                                       22,430   \n",
       "2                                       22,397   \n",
       "3                                       20,660   \n",
       "4                                       20,695   \n",
       "\n",
       "  Mean Equivalised Nominal Disposable Income  At Risk of Povery Rate  \\\n",
       "0                                     30,329                     7.3   \n",
       "1                                     26,164                    11.4   \n",
       "2                                     25,400                    10.1   \n",
       "3                                     24,197                    11.5   \n",
       "4                                     23,744                    10.6   \n",
       "\n",
       "   Deprivation Rate  Consistent Poverty Rate  \n",
       "0              10.3                      1.8  \n",
       "1               8.6                      2.3  \n",
       "2               9.5                      2.5  \n",
       "3              14.8                      3.4  \n",
       "4              17.2                      3.8  "
      ]
     },
     "execution_count": 311,
     "metadata": {},
     "output_type": "execute_result"
    }
   ],
   "source": [
    "income_data=pd.read_csv('Income and Poverty Rates.csv')\n",
    "income_data.head()\n"
   ]
  },
  {
   "cell_type": "code",
   "execution_count": 312,
   "metadata": {},
   "outputs": [],
   "source": [
    "income_data=income_data.loc[:,['Year','Median Real Household Disposable Income','Deprivation Rate']]\n",
    "\n"
   ]
  },
  {
   "cell_type": "code",
   "execution_count": 313,
   "metadata": {},
   "outputs": [],
   "source": [
    "income_data.columns=['Year','Median income','Deprivation rate']"
   ]
  },
  {
   "cell_type": "code",
   "execution_count": 314,
   "metadata": {},
   "outputs": [],
   "source": [
    "data['Year']=data['SALE_DATE'].dt.year\n",
    "data['Month']=data['SALE_DATE'].dt.month_name()"
   ]
  },
  {
   "cell_type": "code",
   "execution_count": 315,
   "metadata": {},
   "outputs": [],
   "source": [
    "data=data[data['Year']<2021]\n"
   ]
  },
  {
   "cell_type": "markdown",
   "metadata": {},
   "source": [
    "#### Merging the two data frames to include median income and the deprivation rate"
   ]
  },
  {
   "cell_type": "code",
   "execution_count": 316,
   "metadata": {},
   "outputs": [],
   "source": [
    "final_data=pd.merge(data, \n",
    " income_data,\n",
    " how='inner',\n",
    " on='Year')"
   ]
  },
  {
   "cell_type": "markdown",
   "metadata": {},
   "source": [
    "## FINAL DATA:"
   ]
  },
  {
   "cell_type": "code",
   "execution_count": 317,
   "metadata": {
    "scrolled": true
   },
   "outputs": [],
   "source": [
    "final_data=final_data[final_data['SALE_PRICE']<1000000]\n"
   ]
  },
  {
   "cell_type": "code",
   "execution_count": 318,
   "metadata": {},
   "outputs": [
    {
     "data": {
      "text/html": [
       "<div>\n",
       "<style scoped>\n",
       "    .dataframe tbody tr th:only-of-type {\n",
       "        vertical-align: middle;\n",
       "    }\n",
       "\n",
       "    .dataframe tbody tr th {\n",
       "        vertical-align: top;\n",
       "    }\n",
       "\n",
       "    .dataframe thead th {\n",
       "        text-align: right;\n",
       "    }\n",
       "</style>\n",
       "<table border=\"1\" class=\"dataframe\">\n",
       "  <thead>\n",
       "    <tr style=\"text-align: right;\">\n",
       "      <th></th>\n",
       "      <th>SALE_DATE</th>\n",
       "      <th>ADDRESS</th>\n",
       "      <th>COUNTY</th>\n",
       "      <th>SALE_PRICE</th>\n",
       "      <th>IF_MARKET_PRICE</th>\n",
       "      <th>IF_VAT_EXCLUDED</th>\n",
       "      <th>PROPERTY_DESC</th>\n",
       "      <th>MORTGAGE_RATE</th>\n",
       "      <th>Year</th>\n",
       "      <th>Month</th>\n",
       "      <th>Median income</th>\n",
       "      <th>Deprivation rate</th>\n",
       "    </tr>\n",
       "  </thead>\n",
       "  <tbody>\n",
       "    <tr>\n",
       "      <th>0</th>\n",
       "      <td>2010-01-01</td>\n",
       "      <td>Co.Dublin</td>\n",
       "      <td>Dublin</td>\n",
       "      <td>343000.0</td>\n",
       "      <td>0</td>\n",
       "      <td>0</td>\n",
       "      <td>Second-Hand</td>\n",
       "      <td>4.02</td>\n",
       "      <td>2010</td>\n",
       "      <td>January</td>\n",
       "      <td>41,262</td>\n",
       "      <td>14.8</td>\n",
       "    </tr>\n",
       "    <tr>\n",
       "      <th>1</th>\n",
       "      <td>2010-01-03</td>\n",
       "      <td>Portlaoise</td>\n",
       "      <td>Laois</td>\n",
       "      <td>185000.0</td>\n",
       "      <td>0</td>\n",
       "      <td>1</td>\n",
       "      <td>New</td>\n",
       "      <td>4.02</td>\n",
       "      <td>2010</td>\n",
       "      <td>January</td>\n",
       "      <td>41,262</td>\n",
       "      <td>14.8</td>\n",
       "    </tr>\n",
       "    <tr>\n",
       "      <th>2</th>\n",
       "      <td>2010-01-04</td>\n",
       "      <td>Dublin 14</td>\n",
       "      <td>Dublin</td>\n",
       "      <td>438500.0</td>\n",
       "      <td>0</td>\n",
       "      <td>0</td>\n",
       "      <td>Second-Hand</td>\n",
       "      <td>4.02</td>\n",
       "      <td>2010</td>\n",
       "      <td>January</td>\n",
       "      <td>41,262</td>\n",
       "      <td>14.8</td>\n",
       "    </tr>\n",
       "    <tr>\n",
       "      <th>3</th>\n",
       "      <td>2010-01-04</td>\n",
       "      <td>Mornington</td>\n",
       "      <td>Meath</td>\n",
       "      <td>400000.0</td>\n",
       "      <td>0</td>\n",
       "      <td>0</td>\n",
       "      <td>Second-Hand</td>\n",
       "      <td>4.02</td>\n",
       "      <td>2010</td>\n",
       "      <td>January</td>\n",
       "      <td>41,262</td>\n",
       "      <td>14.8</td>\n",
       "    </tr>\n",
       "    <tr>\n",
       "      <th>4</th>\n",
       "      <td>2010-01-04</td>\n",
       "      <td>Kilkenny</td>\n",
       "      <td>Kilkenny</td>\n",
       "      <td>160000.0</td>\n",
       "      <td>0</td>\n",
       "      <td>0</td>\n",
       "      <td>Second-Hand</td>\n",
       "      <td>4.02</td>\n",
       "      <td>2010</td>\n",
       "      <td>January</td>\n",
       "      <td>41,262</td>\n",
       "      <td>14.8</td>\n",
       "    </tr>\n",
       "    <tr>\n",
       "      <th>...</th>\n",
       "      <td>...</td>\n",
       "      <td>...</td>\n",
       "      <td>...</td>\n",
       "      <td>...</td>\n",
       "      <td>...</td>\n",
       "      <td>...</td>\n",
       "      <td>...</td>\n",
       "      <td>...</td>\n",
       "      <td>...</td>\n",
       "      <td>...</td>\n",
       "      <td>...</td>\n",
       "      <td>...</td>\n",
       "    </tr>\n",
       "    <tr>\n",
       "      <th>457785</th>\n",
       "      <td>2020-12-31</td>\n",
       "      <td>DUBLIN</td>\n",
       "      <td>Dublin</td>\n",
       "      <td>950000.0</td>\n",
       "      <td>0</td>\n",
       "      <td>0</td>\n",
       "      <td>Second-Hand</td>\n",
       "      <td>2.92</td>\n",
       "      <td>2020</td>\n",
       "      <td>December</td>\n",
       "      <td>46,255</td>\n",
       "      <td>10.3</td>\n",
       "    </tr>\n",
       "    <tr>\n",
       "      <th>457786</th>\n",
       "      <td>2020-12-31</td>\n",
       "      <td>DUBLIN 14</td>\n",
       "      <td>Dublin</td>\n",
       "      <td>400000.0</td>\n",
       "      <td>0</td>\n",
       "      <td>0</td>\n",
       "      <td>Second-Hand</td>\n",
       "      <td>2.92</td>\n",
       "      <td>2020</td>\n",
       "      <td>December</td>\n",
       "      <td>46,255</td>\n",
       "      <td>10.3</td>\n",
       "    </tr>\n",
       "    <tr>\n",
       "      <th>457787</th>\n",
       "      <td>2020-12-31</td>\n",
       "      <td>CO. MEATH</td>\n",
       "      <td>Meath</td>\n",
       "      <td>367000.0</td>\n",
       "      <td>0</td>\n",
       "      <td>0</td>\n",
       "      <td>Second-Hand</td>\n",
       "      <td>2.92</td>\n",
       "      <td>2020</td>\n",
       "      <td>December</td>\n",
       "      <td>46,255</td>\n",
       "      <td>10.3</td>\n",
       "    </tr>\n",
       "    <tr>\n",
       "      <th>457789</th>\n",
       "      <td>2020-12-31</td>\n",
       "      <td>BARRACK ST</td>\n",
       "      <td>Roscommon</td>\n",
       "      <td>30000.0</td>\n",
       "      <td>0</td>\n",
       "      <td>0</td>\n",
       "      <td>Second-Hand</td>\n",
       "      <td>2.92</td>\n",
       "      <td>2020</td>\n",
       "      <td>December</td>\n",
       "      <td>46,255</td>\n",
       "      <td>10.3</td>\n",
       "    </tr>\n",
       "    <tr>\n",
       "      <th>457790</th>\n",
       "      <td>2020-12-31</td>\n",
       "      <td>BRAY</td>\n",
       "      <td>Wicklow</td>\n",
       "      <td>497500.0</td>\n",
       "      <td>0</td>\n",
       "      <td>0</td>\n",
       "      <td>Second-Hand</td>\n",
       "      <td>2.92</td>\n",
       "      <td>2020</td>\n",
       "      <td>December</td>\n",
       "      <td>46,255</td>\n",
       "      <td>10.3</td>\n",
       "    </tr>\n",
       "  </tbody>\n",
       "</table>\n",
       "<p>451597 rows × 12 columns</p>\n",
       "</div>"
      ],
      "text/plain": [
       "        SALE_DATE      ADDRESS     COUNTY  SALE_PRICE  IF_MARKET_PRICE  \\\n",
       "0      2010-01-01    Co.Dublin     Dublin    343000.0                0   \n",
       "1      2010-01-03   Portlaoise      Laois    185000.0                0   \n",
       "2      2010-01-04    Dublin 14     Dublin    438500.0                0   \n",
       "3      2010-01-04   Mornington      Meath    400000.0                0   \n",
       "4      2010-01-04     Kilkenny   Kilkenny    160000.0                0   \n",
       "...           ...          ...        ...         ...              ...   \n",
       "457785 2020-12-31       DUBLIN     Dublin    950000.0                0   \n",
       "457786 2020-12-31    DUBLIN 14     Dublin    400000.0                0   \n",
       "457787 2020-12-31    CO. MEATH      Meath    367000.0                0   \n",
       "457789 2020-12-31   BARRACK ST  Roscommon     30000.0                0   \n",
       "457790 2020-12-31         BRAY    Wicklow    497500.0                0   \n",
       "\n",
       "        IF_VAT_EXCLUDED PROPERTY_DESC  MORTGAGE_RATE  Year     Month  \\\n",
       "0                     0   Second-Hand           4.02  2010   January   \n",
       "1                     1           New           4.02  2010   January   \n",
       "2                     0   Second-Hand           4.02  2010   January   \n",
       "3                     0   Second-Hand           4.02  2010   January   \n",
       "4                     0   Second-Hand           4.02  2010   January   \n",
       "...                 ...           ...            ...   ...       ...   \n",
       "457785                0   Second-Hand           2.92  2020  December   \n",
       "457786                0   Second-Hand           2.92  2020  December   \n",
       "457787                0   Second-Hand           2.92  2020  December   \n",
       "457789                0   Second-Hand           2.92  2020  December   \n",
       "457790                0   Second-Hand           2.92  2020  December   \n",
       "\n",
       "       Median income  Deprivation rate  \n",
       "0             41,262              14.8  \n",
       "1             41,262              14.8  \n",
       "2             41,262              14.8  \n",
       "3             41,262              14.8  \n",
       "4             41,262              14.8  \n",
       "...              ...               ...  \n",
       "457785        46,255              10.3  \n",
       "457786        46,255              10.3  \n",
       "457787        46,255              10.3  \n",
       "457789        46,255              10.3  \n",
       "457790        46,255              10.3  \n",
       "\n",
       "[451597 rows x 12 columns]"
      ]
     },
     "execution_count": 318,
     "metadata": {},
     "output_type": "execute_result"
    }
   ],
   "source": [
    "final_data"
   ]
  },
  {
   "cell_type": "code",
   "execution_count": 341,
   "metadata": {},
   "outputs": [
    {
     "data": {
      "text/plain": [
       "<seaborn.axisgrid.FacetGrid at 0x1b9d5748ac8>"
      ]
     },
     "execution_count": 341,
     "metadata": {},
     "output_type": "execute_result"
    },
    {
     "data": {
      "image/png": "[encoded data removed]",
      "text/plain": [
       "<Figure size 360x360 with 1 Axes>"
      ]
     },
     "metadata": {},
     "output_type": "display_data"
    }
   ],
   "source": [
    "\n",
    "g=sns.catplot(x=\"Year\", y=\"SALE_PRICE\", kind=\"violin\", data=final_data,palette='Spectral')\n",
    "plt.title(\"SALE PRICES VS YEAR\")\n",
    "g.set_xticklabels(rotation=90)\n"
   ]
  },
  {
   "cell_type": "code",
   "execution_count": 340,
   "metadata": {},
   "outputs": [
    {
     "data": {
      "text/plain": [
       "Text(0.5, 1.0, 'DISTRIBUTION OF SALE PRICES')"
      ]
     },
     "execution_count": 340,
     "metadata": {},
     "output_type": "execute_result"
    },
    {
     "data": {
      "image/png": "[encoded data removed]",
      "text/plain": [
       "<Figure size 432x288 with 1 Axes>"
      ]
     },
     "metadata": {},
     "output_type": "display_data"
    }
   ],
   "source": [
    "sns.set_palette(\"OrRd\")\n",
    "sns.distplot(final_data.SALE_PRICE,kde=True,bins=40)\n",
    "plt.title(\"DISTRIBUTION OF SALE PRICES\" )"
   ]
  },
  {
   "cell_type": "code",
   "execution_count": 338,
   "metadata": {},
   "outputs": [
    {
     "data": {
      "text/plain": [
       "Text(0.5, 1.0, 'DISTRIBUTION OF SALE PRICES')"
      ]
     },
     "execution_count": 338,
     "metadata": {},
     "output_type": "execute_result"
    },
    {
     "data": {
      "image/png": "[encoded data removed]",
      "text/plain": [
       "<Figure size 432x288 with 1 Axes>"
      ]
     },
     "metadata": {},
     "output_type": "display_data"
    }
   ],
   "source": [
    "Last_5_years=final_data[final_data['Year']>2015]\n",
    "sns.distplot(Last_5_years.SALE_PRICE,kde=True,bins=40,color='r')\n",
    "plt.title(\"DISTRIBUTION OF SALE PRICES\" )"
   ]
  },
  {
   "cell_type": "code",
   "execution_count": 339,
   "metadata": {},
   "outputs": [
    {
     "data": {
      "text/plain": [
       "<seaborn.axisgrid.FacetGrid at 0x1b9a90c96c8>"
      ]
     },
     "execution_count": 339,
     "metadata": {},
     "output_type": "execute_result"
    },
    {
     "data": {
      "image/png": "[encoded data removed]",
      "text/plain": [
       "<Figure size 720x360 with 2 Axes>"
      ]
     },
     "metadata": {},
     "output_type": "display_data"
    }
   ],
   "source": [
    "sns.catplot(data=final_data,x='IF_MARKET_PRICE',palette='Set2',col='PROPERTY_DESC',kind='count')"
   ]
  },
  {
   "cell_type": "code",
   "execution_count": 335,
   "metadata": {},
   "outputs": [
    {
     "data": {
      "text/plain": [
       "<matplotlib.axes._subplots.AxesSubplot at 0x1b9d37b31c8>"
      ]
     },
     "execution_count": 335,
     "metadata": {},
     "output_type": "execute_result"
    },
    {
     "data": {
      "image/png": "[encoded data removed]",
      "text/plain": [
       "<Figure size 432x288 with 1 Axes>"
      ]
     },
     "metadata": {},
     "output_type": "display_data"
    }
   ],
   "source": [
    "sns.regplot(y=\"Deprivation rate\", x=\"MORTGAGE_RATE\", data=final_data )"
   ]
  },
  {
   "cell_type": "code",
   "execution_count": 347,
   "metadata": {},
   "outputs": [
    {
     "data": {
      "text/plain": [
       "Text(0.5, 1, 'SALE PRICES VS PROPERTY')"
      ]
     },
     "execution_count": 347,
     "metadata": {},
     "output_type": "execute_result"
    },
    {
     "data": {
      "image/png": "[encoded data removed]",
      "text/plain": [
       "<Figure size 360x360 with 1 Axes>"
      ]
     },
     "metadata": {},
     "output_type": "display_data"
    }
   ],
   "source": [
    "sns.set_style(\"whitegrid\")\n",
    "g=sns.catplot(x=\"PROPERTY_DESC\", y=\"SALE_PRICE\", kind=\"box\", data=final_data,palette='BuGn')\n",
    "plt.title(\"SALE PRICES VS PROPERTY\")"
   ]
  }
 ],
 "metadata": {
  "kernelspec": {
   "display_name": "Python 3",
   "language": "python",
   "name": "python3"
  },
  "language_info": {
   "codemirror_mode": {
    "name": "ipython",
    "version": 3
   },
   "file_extension": ".py",
   "mimetype": "text/x-python",
   "name": "python",
   "nbconvert_exporter": "python",
   "pygments_lexer": "ipython3",
   "version": "3.7.4"
  }
 },
 "nbformat": 4,
 "nbformat_minor": 2
}
