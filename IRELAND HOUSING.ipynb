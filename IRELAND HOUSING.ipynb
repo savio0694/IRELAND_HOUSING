{
 "cells": [
  {
   "cell_type": "markdown",
   "source": [
    "## HOUSING IN IRELAND"
   ],
   "metadata": {}
  },
  {
   "cell_type": "markdown",
   "source": [
    "#### Loading Libraries:"
   ],
   "metadata": {}
  },
  {
   "cell_type": "code",
   "execution_count": 1,
   "source": [
    "import pandas as pd\r\n",
    "import numpy as np\r\n",
    "import matplotlib.pyplot as plt\r\n",
    "import seaborn as sns\r\n",
    "sns.set_style(\"darkgrid\")\r\n",
    "import os\r\n",
    "import re\r\n",
    "from matplotlib.pyplot import figure"
   ],
   "outputs": [],
   "metadata": {}
  },
  {
   "cell_type": "code",
   "execution_count": 2,
   "source": [
    "os.getcwd()"
   ],
   "outputs": [
    {
     "output_type": "execute_result",
     "data": {
      "text/plain": [
       "'c:\\\\Users\\\\leand\\\\OneDrive\\\\Documents\\\\GitHub\\\\IRELAND_HOUSING'"
      ]
     },
     "metadata": {},
     "execution_count": 2
    }
   ],
   "metadata": {}
  },
  {
   "cell_type": "markdown",
   "source": [
    "#### The data is sourced from propery price register.ie"
   ],
   "metadata": {}
  },
  {
   "cell_type": "code",
   "execution_count": 3,
   "source": [
    "data=pd.read_csv('Property_Price_Register_Ireland.csv')"
   ],
   "outputs": [],
   "metadata": {}
  },
  {
   "cell_type": "code",
   "execution_count": 4,
   "source": [
    "data.shape"
   ],
   "outputs": [
    {
     "output_type": "execute_result",
     "data": {
      "text/plain": [
       "(476711, 9)"
      ]
     },
     "metadata": {},
     "execution_count": 4
    }
   ],
   "metadata": {}
  },
  {
   "cell_type": "code",
   "execution_count": 5,
   "source": [
    "data.head()"
   ],
   "outputs": [
    {
     "output_type": "execute_result",
     "data": {
      "text/plain": [
       "    SALE_DATE                                         ADDRESS POSTAL_CODE  \\\n",
       "0  2010-01-01          5 Braemor Drive, Churchtown, Co.Dublin         NaN   \n",
       "1  2010-01-03  134 Ashewood Walk, Summerhill Lane, Portlaoise         NaN   \n",
       "2  2010-01-04             1 Meadow Avenue, Dundrum, Dublin 14         NaN   \n",
       "3  2010-01-04                         1 The Haven, Mornington         NaN   \n",
       "4  2010-01-04                   11 Melville Heights, Kilkenny         NaN   \n",
       "\n",
       "     COUNTY  SALE_PRICE  IF_MARKET_PRICE  IF_VAT_EXCLUDED  \\\n",
       "0    Dublin    343000.0                0                0   \n",
       "1     Laois    185000.0                0                1   \n",
       "2    Dublin    438500.0                0                0   \n",
       "3     Meath    400000.0                0                0   \n",
       "4  Kilkenny    160000.0                0                0   \n",
       "\n",
       "                           PROPERTY_DESC  \\\n",
       "0  Second-Hand Dwelling house /Apartment   \n",
       "1          New Dwelling house /Apartment   \n",
       "2  Second-Hand Dwelling house /Apartment   \n",
       "3  Second-Hand Dwelling house /Apartment   \n",
       "4  Second-Hand Dwelling house /Apartment   \n",
       "\n",
       "                                  PROPERTY_SIZE_DESC  \n",
       "0                                                NaN  \n",
       "1  greater than or equal to 38 sq metres and less...  \n",
       "2                                                NaN  \n",
       "3                                                NaN  \n",
       "4                                                NaN  "
      ],
      "text/html": [
       "<div>\n",
       "<style scoped>\n",
       "    .dataframe tbody tr th:only-of-type {\n",
       "        vertical-align: middle;\n",
       "    }\n",
       "\n",
       "    .dataframe tbody tr th {\n",
       "        vertical-align: top;\n",
       "    }\n",
       "\n",
       "    .dataframe thead th {\n",
       "        text-align: right;\n",
       "    }\n",
       "</style>\n",
       "<table border=\"1\" class=\"dataframe\">\n",
       "  <thead>\n",
       "    <tr style=\"text-align: right;\">\n",
       "      <th></th>\n",
       "      <th>SALE_DATE</th>\n",
       "      <th>ADDRESS</th>\n",
       "      <th>POSTAL_CODE</th>\n",
       "      <th>COUNTY</th>\n",
       "      <th>SALE_PRICE</th>\n",
       "      <th>IF_MARKET_PRICE</th>\n",
       "      <th>IF_VAT_EXCLUDED</th>\n",
       "      <th>PROPERTY_DESC</th>\n",
       "      <th>PROPERTY_SIZE_DESC</th>\n",
       "    </tr>\n",
       "  </thead>\n",
       "  <tbody>\n",
       "    <tr>\n",
       "      <th>0</th>\n",
       "      <td>2010-01-01</td>\n",
       "      <td>5 Braemor Drive, Churchtown, Co.Dublin</td>\n",
       "      <td>NaN</td>\n",
       "      <td>Dublin</td>\n",
       "      <td>343000.0</td>\n",
       "      <td>0</td>\n",
       "      <td>0</td>\n",
       "      <td>Second-Hand Dwelling house /Apartment</td>\n",
       "      <td>NaN</td>\n",
       "    </tr>\n",
       "    <tr>\n",
       "      <th>1</th>\n",
       "      <td>2010-01-03</td>\n",
       "      <td>134 Ashewood Walk, Summerhill Lane, Portlaoise</td>\n",
       "      <td>NaN</td>\n",
       "      <td>Laois</td>\n",
       "      <td>185000.0</td>\n",
       "      <td>0</td>\n",
       "      <td>1</td>\n",
       "      <td>New Dwelling house /Apartment</td>\n",
       "      <td>greater than or equal to 38 sq metres and less...</td>\n",
       "    </tr>\n",
       "    <tr>\n",
       "      <th>2</th>\n",
       "      <td>2010-01-04</td>\n",
       "      <td>1 Meadow Avenue, Dundrum, Dublin 14</td>\n",
       "      <td>NaN</td>\n",
       "      <td>Dublin</td>\n",
       "      <td>438500.0</td>\n",
       "      <td>0</td>\n",
       "      <td>0</td>\n",
       "      <td>Second-Hand Dwelling house /Apartment</td>\n",
       "      <td>NaN</td>\n",
       "    </tr>\n",
       "    <tr>\n",
       "      <th>3</th>\n",
       "      <td>2010-01-04</td>\n",
       "      <td>1 The Haven, Mornington</td>\n",
       "      <td>NaN</td>\n",
       "      <td>Meath</td>\n",
       "      <td>400000.0</td>\n",
       "      <td>0</td>\n",
       "      <td>0</td>\n",
       "      <td>Second-Hand Dwelling house /Apartment</td>\n",
       "      <td>NaN</td>\n",
       "    </tr>\n",
       "    <tr>\n",
       "      <th>4</th>\n",
       "      <td>2010-01-04</td>\n",
       "      <td>11 Melville Heights, Kilkenny</td>\n",
       "      <td>NaN</td>\n",
       "      <td>Kilkenny</td>\n",
       "      <td>160000.0</td>\n",
       "      <td>0</td>\n",
       "      <td>0</td>\n",
       "      <td>Second-Hand Dwelling house /Apartment</td>\n",
       "      <td>NaN</td>\n",
       "    </tr>\n",
       "  </tbody>\n",
       "</table>\n",
       "</div>"
      ]
     },
     "metadata": {},
     "execution_count": 5
    }
   ],
   "metadata": {}
  },
  {
   "cell_type": "code",
   "execution_count": 6,
   "source": [
    "data.dtypes"
   ],
   "outputs": [
    {
     "output_type": "execute_result",
     "data": {
      "text/plain": [
       "SALE_DATE              object\n",
       "ADDRESS                object\n",
       "POSTAL_CODE            object\n",
       "COUNTY                 object\n",
       "SALE_PRICE            float64\n",
       "IF_MARKET_PRICE         int64\n",
       "IF_VAT_EXCLUDED         int64\n",
       "PROPERTY_DESC          object\n",
       "PROPERTY_SIZE_DESC     object\n",
       "dtype: object"
      ]
     },
     "metadata": {},
     "execution_count": 6
    }
   ],
   "metadata": {}
  },
  {
   "cell_type": "markdown",
   "source": [
    "#### Converting the date column to its proper datetime type"
   ],
   "metadata": {}
  },
  {
   "cell_type": "code",
   "execution_count": 7,
   "source": [
    "data['SALE_DATE']=pd.to_datetime(data['SALE_DATE'])\r\n",
    "#data['SALE_PRICE']=pd.to_numeric(data['SALE_PRICE'])"
   ],
   "outputs": [],
   "metadata": {}
  },
  {
   "cell_type": "code",
   "execution_count": 8,
   "source": [
    "data.dtypes"
   ],
   "outputs": [
    {
     "output_type": "execute_result",
     "data": {
      "text/plain": [
       "SALE_DATE             datetime64[ns]\n",
       "ADDRESS                       object\n",
       "POSTAL_CODE                   object\n",
       "COUNTY                        object\n",
       "SALE_PRICE                   float64\n",
       "IF_MARKET_PRICE                int64\n",
       "IF_VAT_EXCLUDED                int64\n",
       "PROPERTY_DESC                 object\n",
       "PROPERTY_SIZE_DESC            object\n",
       "dtype: object"
      ]
     },
     "metadata": {},
     "execution_count": 8
    }
   ],
   "metadata": {}
  },
  {
   "cell_type": "markdown",
   "source": [
    "#### As post code and property description columns are mosly empty,ignore them"
   ],
   "metadata": {}
  },
  {
   "cell_type": "code",
   "execution_count": 9,
   "source": [
    "data.isnull().sum()"
   ],
   "outputs": [
    {
     "output_type": "execute_result",
     "data": {
      "text/plain": [
       "SALE_DATE                  0\n",
       "ADDRESS                    0\n",
       "POSTAL_CODE           386961\n",
       "COUNTY                     0\n",
       "SALE_PRICE                 0\n",
       "IF_MARKET_PRICE            0\n",
       "IF_VAT_EXCLUDED            0\n",
       "PROPERTY_DESC              0\n",
       "PROPERTY_SIZE_DESC    423922\n",
       "dtype: int64"
      ]
     },
     "metadata": {},
     "execution_count": 9
    }
   ],
   "metadata": {}
  },
  {
   "cell_type": "code",
   "execution_count": 10,
   "source": [
    "data=data.iloc[:,[0,1,3,4,5,6,7]]"
   ],
   "outputs": [],
   "metadata": {}
  },
  {
   "cell_type": "markdown",
   "source": [
    "#### Define functions to trim the address and property description to be more concise and readable."
   ],
   "metadata": {}
  },
  {
   "cell_type": "code",
   "execution_count": 11,
   "source": [
    "TRIM_PROPERTY = lambda x: re.search(r\"^([\\S]+)\", x).group()\r\n",
    "TRIM_ADDRESS= lambda x: re.split(\",\", x)[-1]"
   ],
   "outputs": [],
   "metadata": {}
  },
  {
   "cell_type": "code",
   "execution_count": 12,
   "source": [
    "data['PROPERTY_DESC']=data.iloc[:,6].apply(TRIM_PROPERTY)\r\n"
   ],
   "outputs": [],
   "metadata": {}
  },
  {
   "cell_type": "code",
   "execution_count": 13,
   "source": [
    "data['ADDRESS']=data.iloc[:,1].apply(TRIM_ADDRESS)"
   ],
   "outputs": [],
   "metadata": {}
  },
  {
   "cell_type": "markdown",
   "source": [
    "#### Create a mortgage interest rate column,set to 1 for now"
   ],
   "metadata": {}
  },
  {
   "cell_type": "code",
   "execution_count": 14,
   "source": [
    "data['MORTGAGE_RATE']=1"
   ],
   "outputs": [],
   "metadata": {}
  },
  {
   "cell_type": "code",
   "execution_count": 15,
   "source": [
    "data"
   ],
   "outputs": [
    {
     "output_type": "execute_result",
     "data": {
      "text/plain": [
       "        SALE_DATE      ADDRESS     COUNTY  SALE_PRICE  IF_MARKET_PRICE  \\\n",
       "0      2010-01-01    Co.Dublin     Dublin    343000.0                0   \n",
       "1      2010-01-03   Portlaoise      Laois    185000.0                0   \n",
       "2      2010-01-04    Dublin 14     Dublin    438500.0                0   \n",
       "3      2010-01-04   Mornington      Meath    400000.0                0   \n",
       "4      2010-01-04     Kilkenny   Kilkenny    160000.0                0   \n",
       "...           ...          ...        ...         ...              ...   \n",
       "476706 2021-05-28    MULLINGAR  Westmeath    150000.0                0   \n",
       "476707 2021-05-28       BORRIS     Carlow    170000.0                1   \n",
       "476708 2021-05-28    WESTMEATH  Westmeath    175000.0                0   \n",
       "476709 2021-05-28   GLENGARIFF       Cork    240000.0                0   \n",
       "476710 2021-05-28    COOTEHILL      Cavan     47000.0                0   \n",
       "\n",
       "        IF_VAT_EXCLUDED PROPERTY_DESC  MORTGAGE_RATE  \n",
       "0                     0   Second-Hand              1  \n",
       "1                     1           New              1  \n",
       "2                     0   Second-Hand              1  \n",
       "3                     0   Second-Hand              1  \n",
       "4                     0   Second-Hand              1  \n",
       "...                 ...           ...            ...  \n",
       "476706                0   Second-Hand              1  \n",
       "476707                0   Second-Hand              1  \n",
       "476708                0   Second-Hand              1  \n",
       "476709                0   Second-Hand              1  \n",
       "476710                0   Second-Hand              1  \n",
       "\n",
       "[476711 rows x 8 columns]"
      ],
      "text/html": [
       "<div>\n",
       "<style scoped>\n",
       "    .dataframe tbody tr th:only-of-type {\n",
       "        vertical-align: middle;\n",
       "    }\n",
       "\n",
       "    .dataframe tbody tr th {\n",
       "        vertical-align: top;\n",
       "    }\n",
       "\n",
       "    .dataframe thead th {\n",
       "        text-align: right;\n",
       "    }\n",
       "</style>\n",
       "<table border=\"1\" class=\"dataframe\">\n",
       "  <thead>\n",
       "    <tr style=\"text-align: right;\">\n",
       "      <th></th>\n",
       "      <th>SALE_DATE</th>\n",
       "      <th>ADDRESS</th>\n",
       "      <th>COUNTY</th>\n",
       "      <th>SALE_PRICE</th>\n",
       "      <th>IF_MARKET_PRICE</th>\n",
       "      <th>IF_VAT_EXCLUDED</th>\n",
       "      <th>PROPERTY_DESC</th>\n",
       "      <th>MORTGAGE_RATE</th>\n",
       "    </tr>\n",
       "  </thead>\n",
       "  <tbody>\n",
       "    <tr>\n",
       "      <th>0</th>\n",
       "      <td>2010-01-01</td>\n",
       "      <td>Co.Dublin</td>\n",
       "      <td>Dublin</td>\n",
       "      <td>343000.0</td>\n",
       "      <td>0</td>\n",
       "      <td>0</td>\n",
       "      <td>Second-Hand</td>\n",
       "      <td>1</td>\n",
       "    </tr>\n",
       "    <tr>\n",
       "      <th>1</th>\n",
       "      <td>2010-01-03</td>\n",
       "      <td>Portlaoise</td>\n",
       "      <td>Laois</td>\n",
       "      <td>185000.0</td>\n",
       "      <td>0</td>\n",
       "      <td>1</td>\n",
       "      <td>New</td>\n",
       "      <td>1</td>\n",
       "    </tr>\n",
       "    <tr>\n",
       "      <th>2</th>\n",
       "      <td>2010-01-04</td>\n",
       "      <td>Dublin 14</td>\n",
       "      <td>Dublin</td>\n",
       "      <td>438500.0</td>\n",
       "      <td>0</td>\n",
       "      <td>0</td>\n",
       "      <td>Second-Hand</td>\n",
       "      <td>1</td>\n",
       "    </tr>\n",
       "    <tr>\n",
       "      <th>3</th>\n",
       "      <td>2010-01-04</td>\n",
       "      <td>Mornington</td>\n",
       "      <td>Meath</td>\n",
       "      <td>400000.0</td>\n",
       "      <td>0</td>\n",
       "      <td>0</td>\n",
       "      <td>Second-Hand</td>\n",
       "      <td>1</td>\n",
       "    </tr>\n",
       "    <tr>\n",
       "      <th>4</th>\n",
       "      <td>2010-01-04</td>\n",
       "      <td>Kilkenny</td>\n",
       "      <td>Kilkenny</td>\n",
       "      <td>160000.0</td>\n",
       "      <td>0</td>\n",
       "      <td>0</td>\n",
       "      <td>Second-Hand</td>\n",
       "      <td>1</td>\n",
       "    </tr>\n",
       "    <tr>\n",
       "      <th>...</th>\n",
       "      <td>...</td>\n",
       "      <td>...</td>\n",
       "      <td>...</td>\n",
       "      <td>...</td>\n",
       "      <td>...</td>\n",
       "      <td>...</td>\n",
       "      <td>...</td>\n",
       "      <td>...</td>\n",
       "    </tr>\n",
       "    <tr>\n",
       "      <th>476706</th>\n",
       "      <td>2021-05-28</td>\n",
       "      <td>MULLINGAR</td>\n",
       "      <td>Westmeath</td>\n",
       "      <td>150000.0</td>\n",
       "      <td>0</td>\n",
       "      <td>0</td>\n",
       "      <td>Second-Hand</td>\n",
       "      <td>1</td>\n",
       "    </tr>\n",
       "    <tr>\n",
       "      <th>476707</th>\n",
       "      <td>2021-05-28</td>\n",
       "      <td>BORRIS</td>\n",
       "      <td>Carlow</td>\n",
       "      <td>170000.0</td>\n",
       "      <td>1</td>\n",
       "      <td>0</td>\n",
       "      <td>Second-Hand</td>\n",
       "      <td>1</td>\n",
       "    </tr>\n",
       "    <tr>\n",
       "      <th>476708</th>\n",
       "      <td>2021-05-28</td>\n",
       "      <td>WESTMEATH</td>\n",
       "      <td>Westmeath</td>\n",
       "      <td>175000.0</td>\n",
       "      <td>0</td>\n",
       "      <td>0</td>\n",
       "      <td>Second-Hand</td>\n",
       "      <td>1</td>\n",
       "    </tr>\n",
       "    <tr>\n",
       "      <th>476709</th>\n",
       "      <td>2021-05-28</td>\n",
       "      <td>GLENGARIFF</td>\n",
       "      <td>Cork</td>\n",
       "      <td>240000.0</td>\n",
       "      <td>0</td>\n",
       "      <td>0</td>\n",
       "      <td>Second-Hand</td>\n",
       "      <td>1</td>\n",
       "    </tr>\n",
       "    <tr>\n",
       "      <th>476710</th>\n",
       "      <td>2021-05-28</td>\n",
       "      <td>COOTEHILL</td>\n",
       "      <td>Cavan</td>\n",
       "      <td>47000.0</td>\n",
       "      <td>0</td>\n",
       "      <td>0</td>\n",
       "      <td>Second-Hand</td>\n",
       "      <td>1</td>\n",
       "    </tr>\n",
       "  </tbody>\n",
       "</table>\n",
       "<p>476711 rows × 8 columns</p>\n",
       "</div>"
      ]
     },
     "metadata": {},
     "execution_count": 15
    }
   ],
   "metadata": {}
  },
  {
   "cell_type": "markdown",
   "source": [
    "#### Mapping the year of sale to the average mortgage lending rate for tha year, mortgage rates have been obtained from the \n",
    "\n",
    "#### CENTRAL STATISTICS OFFICE IRELAND CSO.ie website"
   ],
   "metadata": {}
  },
  {
   "cell_type": "code",
   "execution_count": 16,
   "source": [
    "def map_interest_rate(year):\r\n",
    "    mapping = {\r\n",
    "        2010 : 4.02,\r\n",
    "2011 : 4.42,\r\n",
    "2012 : 4.33,\r\n",
    "2013 : 4.38,\r\n",
    "2014 : 4.20,\r\n",
    "2015 : 4.05,\r\n",
    "2016 : 3.61,\r\n",
    "2017 : 3.44,\r\n",
    "2018 : 3.21,\r\n",
    "2019 : 3.02,\r\n",
    "2020 : 2.92,\r\n",
    "2021 : 2.62,\r\n",
    "    }\r\n",
    "    \r\n",
    "    return mapping.get(year, \"nothing\")"
   ],
   "outputs": [],
   "metadata": {}
  },
  {
   "cell_type": "code",
   "execution_count": 17,
   "source": [
    "data['MORTGAGE_RATE']=data['SALE_DATE'].dt.year.apply(map_interest_rate)"
   ],
   "outputs": [],
   "metadata": {}
  },
  {
   "cell_type": "code",
   "execution_count": 18,
   "source": [
    "data"
   ],
   "outputs": [
    {
     "output_type": "execute_result",
     "data": {
      "text/plain": [
       "        SALE_DATE      ADDRESS     COUNTY  SALE_PRICE  IF_MARKET_PRICE  \\\n",
       "0      2010-01-01    Co.Dublin     Dublin    343000.0                0   \n",
       "1      2010-01-03   Portlaoise      Laois    185000.0                0   \n",
       "2      2010-01-04    Dublin 14     Dublin    438500.0                0   \n",
       "3      2010-01-04   Mornington      Meath    400000.0                0   \n",
       "4      2010-01-04     Kilkenny   Kilkenny    160000.0                0   \n",
       "...           ...          ...        ...         ...              ...   \n",
       "476706 2021-05-28    MULLINGAR  Westmeath    150000.0                0   \n",
       "476707 2021-05-28       BORRIS     Carlow    170000.0                1   \n",
       "476708 2021-05-28    WESTMEATH  Westmeath    175000.0                0   \n",
       "476709 2021-05-28   GLENGARIFF       Cork    240000.0                0   \n",
       "476710 2021-05-28    COOTEHILL      Cavan     47000.0                0   \n",
       "\n",
       "        IF_VAT_EXCLUDED PROPERTY_DESC  MORTGAGE_RATE  \n",
       "0                     0   Second-Hand           4.02  \n",
       "1                     1           New           4.02  \n",
       "2                     0   Second-Hand           4.02  \n",
       "3                     0   Second-Hand           4.02  \n",
       "4                     0   Second-Hand           4.02  \n",
       "...                 ...           ...            ...  \n",
       "476706                0   Second-Hand           2.62  \n",
       "476707                0   Second-Hand           2.62  \n",
       "476708                0   Second-Hand           2.62  \n",
       "476709                0   Second-Hand           2.62  \n",
       "476710                0   Second-Hand           2.62  \n",
       "\n",
       "[476711 rows x 8 columns]"
      ],
      "text/html": [
       "<div>\n",
       "<style scoped>\n",
       "    .dataframe tbody tr th:only-of-type {\n",
       "        vertical-align: middle;\n",
       "    }\n",
       "\n",
       "    .dataframe tbody tr th {\n",
       "        vertical-align: top;\n",
       "    }\n",
       "\n",
       "    .dataframe thead th {\n",
       "        text-align: right;\n",
       "    }\n",
       "</style>\n",
       "<table border=\"1\" class=\"dataframe\">\n",
       "  <thead>\n",
       "    <tr style=\"text-align: right;\">\n",
       "      <th></th>\n",
       "      <th>SALE_DATE</th>\n",
       "      <th>ADDRESS</th>\n",
       "      <th>COUNTY</th>\n",
       "      <th>SALE_PRICE</th>\n",
       "      <th>IF_MARKET_PRICE</th>\n",
       "      <th>IF_VAT_EXCLUDED</th>\n",
       "      <th>PROPERTY_DESC</th>\n",
       "      <th>MORTGAGE_RATE</th>\n",
       "    </tr>\n",
       "  </thead>\n",
       "  <tbody>\n",
       "    <tr>\n",
       "      <th>0</th>\n",
       "      <td>2010-01-01</td>\n",
       "      <td>Co.Dublin</td>\n",
       "      <td>Dublin</td>\n",
       "      <td>343000.0</td>\n",
       "      <td>0</td>\n",
       "      <td>0</td>\n",
       "      <td>Second-Hand</td>\n",
       "      <td>4.02</td>\n",
       "    </tr>\n",
       "    <tr>\n",
       "      <th>1</th>\n",
       "      <td>2010-01-03</td>\n",
       "      <td>Portlaoise</td>\n",
       "      <td>Laois</td>\n",
       "      <td>185000.0</td>\n",
       "      <td>0</td>\n",
       "      <td>1</td>\n",
       "      <td>New</td>\n",
       "      <td>4.02</td>\n",
       "    </tr>\n",
       "    <tr>\n",
       "      <th>2</th>\n",
       "      <td>2010-01-04</td>\n",
       "      <td>Dublin 14</td>\n",
       "      <td>Dublin</td>\n",
       "      <td>438500.0</td>\n",
       "      <td>0</td>\n",
       "      <td>0</td>\n",
       "      <td>Second-Hand</td>\n",
       "      <td>4.02</td>\n",
       "    </tr>\n",
       "    <tr>\n",
       "      <th>3</th>\n",
       "      <td>2010-01-04</td>\n",
       "      <td>Mornington</td>\n",
       "      <td>Meath</td>\n",
       "      <td>400000.0</td>\n",
       "      <td>0</td>\n",
       "      <td>0</td>\n",
       "      <td>Second-Hand</td>\n",
       "      <td>4.02</td>\n",
       "    </tr>\n",
       "    <tr>\n",
       "      <th>4</th>\n",
       "      <td>2010-01-04</td>\n",
       "      <td>Kilkenny</td>\n",
       "      <td>Kilkenny</td>\n",
       "      <td>160000.0</td>\n",
       "      <td>0</td>\n",
       "      <td>0</td>\n",
       "      <td>Second-Hand</td>\n",
       "      <td>4.02</td>\n",
       "    </tr>\n",
       "    <tr>\n",
       "      <th>...</th>\n",
       "      <td>...</td>\n",
       "      <td>...</td>\n",
       "      <td>...</td>\n",
       "      <td>...</td>\n",
       "      <td>...</td>\n",
       "      <td>...</td>\n",
       "      <td>...</td>\n",
       "      <td>...</td>\n",
       "    </tr>\n",
       "    <tr>\n",
       "      <th>476706</th>\n",
       "      <td>2021-05-28</td>\n",
       "      <td>MULLINGAR</td>\n",
       "      <td>Westmeath</td>\n",
       "      <td>150000.0</td>\n",
       "      <td>0</td>\n",
       "      <td>0</td>\n",
       "      <td>Second-Hand</td>\n",
       "      <td>2.62</td>\n",
       "    </tr>\n",
       "    <tr>\n",
       "      <th>476707</th>\n",
       "      <td>2021-05-28</td>\n",
       "      <td>BORRIS</td>\n",
       "      <td>Carlow</td>\n",
       "      <td>170000.0</td>\n",
       "      <td>1</td>\n",
       "      <td>0</td>\n",
       "      <td>Second-Hand</td>\n",
       "      <td>2.62</td>\n",
       "    </tr>\n",
       "    <tr>\n",
       "      <th>476708</th>\n",
       "      <td>2021-05-28</td>\n",
       "      <td>WESTMEATH</td>\n",
       "      <td>Westmeath</td>\n",
       "      <td>175000.0</td>\n",
       "      <td>0</td>\n",
       "      <td>0</td>\n",
       "      <td>Second-Hand</td>\n",
       "      <td>2.62</td>\n",
       "    </tr>\n",
       "    <tr>\n",
       "      <th>476709</th>\n",
       "      <td>2021-05-28</td>\n",
       "      <td>GLENGARIFF</td>\n",
       "      <td>Cork</td>\n",
       "      <td>240000.0</td>\n",
       "      <td>0</td>\n",
       "      <td>0</td>\n",
       "      <td>Second-Hand</td>\n",
       "      <td>2.62</td>\n",
       "    </tr>\n",
       "    <tr>\n",
       "      <th>476710</th>\n",
       "      <td>2021-05-28</td>\n",
       "      <td>COOTEHILL</td>\n",
       "      <td>Cavan</td>\n",
       "      <td>47000.0</td>\n",
       "      <td>0</td>\n",
       "      <td>0</td>\n",
       "      <td>Second-Hand</td>\n",
       "      <td>2.62</td>\n",
       "    </tr>\n",
       "  </tbody>\n",
       "</table>\n",
       "<p>476711 rows × 8 columns</p>\n",
       "</div>"
      ]
     },
     "metadata": {},
     "execution_count": 18
    }
   ],
   "metadata": {}
  },
  {
   "cell_type": "markdown",
   "source": [
    "#### Gathering additional variables like the median household income and deprivation rate for that year as these affect purchasing \n",
    "\n",
    "#### power, data gathered from CSO.IE"
   ],
   "metadata": {}
  },
  {
   "cell_type": "code",
   "execution_count": 19,
   "source": [
    "income_data=pd.read_csv('Income and Poverty Rates.csv')\r\n",
    "income_data.head()\r\n"
   ],
   "outputs": [
    {
     "output_type": "execute_result",
     "data": {
      "text/plain": [
       "   Year Median Real Household Disposable Income  \\\n",
       "0  2019                                  46,255   \n",
       "1  2008                                  45,233   \n",
       "2  2009                                  42,093   \n",
       "3  2010                                  41,262   \n",
       "4  2011                                  40,711   \n",
       "\n",
       "  Mean Real Household Disposable Income  \\\n",
       "0                                55,660   \n",
       "1                                52,973   \n",
       "2                                50,078   \n",
       "3                                49,388   \n",
       "4                                47,598   \n",
       "\n",
       "  Median Nominal Household Disposable Income  \\\n",
       "0                                     47,373   \n",
       "1                                     45,401   \n",
       "2                                     42,093   \n",
       "3                                     39,801   \n",
       "4                                     39,819   \n",
       "\n",
       "  Mean Nominal Real Disposable Income  \\\n",
       "0                              57,005   \n",
       "1                              53,170   \n",
       "2                              50,078   \n",
       "3                              47,640   \n",
       "4                              46,555   \n",
       "\n",
       "  Median Equivalised Real Disposable Income  \\\n",
       "0                                    26,005   \n",
       "1                                    22,347   \n",
       "2                                    22,397   \n",
       "3                                    21,418   \n",
       "4                                    21,159   \n",
       "\n",
       "  Mean Equivalised Real Disposable Income  \\\n",
       "0                                  29,613   \n",
       "1                                  26,067   \n",
       "2                                  25,400   \n",
       "3                                  25,085   \n",
       "4                                  24,276   \n",
       "\n",
       "  Median Equivalised Nominal Disposable Income  \\\n",
       "0                                       26,634   \n",
       "1                                       22,430   \n",
       "2                                       22,397   \n",
       "3                                       20,660   \n",
       "4                                       20,695   \n",
       "\n",
       "  Mean Equivalised Nominal Disposable Income  At Risk of Povery Rate  \\\n",
       "0                                     30,329                     7.3   \n",
       "1                                     26,164                    11.4   \n",
       "2                                     25,400                    10.1   \n",
       "3                                     24,197                    11.5   \n",
       "4                                     23,744                    10.6   \n",
       "\n",
       "   Deprivation Rate  Consistent Poverty Rate  \n",
       "0              10.3                      1.8  \n",
       "1               8.6                      2.3  \n",
       "2               9.5                      2.5  \n",
       "3              14.8                      3.4  \n",
       "4              17.2                      3.8  "
      ],
      "text/html": [
       "<div>\n",
       "<style scoped>\n",
       "    .dataframe tbody tr th:only-of-type {\n",
       "        vertical-align: middle;\n",
       "    }\n",
       "\n",
       "    .dataframe tbody tr th {\n",
       "        vertical-align: top;\n",
       "    }\n",
       "\n",
       "    .dataframe thead th {\n",
       "        text-align: right;\n",
       "    }\n",
       "</style>\n",
       "<table border=\"1\" class=\"dataframe\">\n",
       "  <thead>\n",
       "    <tr style=\"text-align: right;\">\n",
       "      <th></th>\n",
       "      <th>Year</th>\n",
       "      <th>Median Real Household Disposable Income</th>\n",
       "      <th>Mean Real Household Disposable Income</th>\n",
       "      <th>Median Nominal Household Disposable Income</th>\n",
       "      <th>Mean Nominal Real Disposable Income</th>\n",
       "      <th>Median Equivalised Real Disposable Income</th>\n",
       "      <th>Mean Equivalised Real Disposable Income</th>\n",
       "      <th>Median Equivalised Nominal Disposable Income</th>\n",
       "      <th>Mean Equivalised Nominal Disposable Income</th>\n",
       "      <th>At Risk of Povery Rate</th>\n",
       "      <th>Deprivation Rate</th>\n",
       "      <th>Consistent Poverty Rate</th>\n",
       "    </tr>\n",
       "  </thead>\n",
       "  <tbody>\n",
       "    <tr>\n",
       "      <th>0</th>\n",
       "      <td>2019</td>\n",
       "      <td>46,255</td>\n",
       "      <td>55,660</td>\n",
       "      <td>47,373</td>\n",
       "      <td>57,005</td>\n",
       "      <td>26,005</td>\n",
       "      <td>29,613</td>\n",
       "      <td>26,634</td>\n",
       "      <td>30,329</td>\n",
       "      <td>7.3</td>\n",
       "      <td>10.3</td>\n",
       "      <td>1.8</td>\n",
       "    </tr>\n",
       "    <tr>\n",
       "      <th>1</th>\n",
       "      <td>2008</td>\n",
       "      <td>45,233</td>\n",
       "      <td>52,973</td>\n",
       "      <td>45,401</td>\n",
       "      <td>53,170</td>\n",
       "      <td>22,347</td>\n",
       "      <td>26,067</td>\n",
       "      <td>22,430</td>\n",
       "      <td>26,164</td>\n",
       "      <td>11.4</td>\n",
       "      <td>8.6</td>\n",
       "      <td>2.3</td>\n",
       "    </tr>\n",
       "    <tr>\n",
       "      <th>2</th>\n",
       "      <td>2009</td>\n",
       "      <td>42,093</td>\n",
       "      <td>50,078</td>\n",
       "      <td>42,093</td>\n",
       "      <td>50,078</td>\n",
       "      <td>22,397</td>\n",
       "      <td>25,400</td>\n",
       "      <td>22,397</td>\n",
       "      <td>25,400</td>\n",
       "      <td>10.1</td>\n",
       "      <td>9.5</td>\n",
       "      <td>2.5</td>\n",
       "    </tr>\n",
       "    <tr>\n",
       "      <th>3</th>\n",
       "      <td>2010</td>\n",
       "      <td>41,262</td>\n",
       "      <td>49,388</td>\n",
       "      <td>39,801</td>\n",
       "      <td>47,640</td>\n",
       "      <td>21,418</td>\n",
       "      <td>25,085</td>\n",
       "      <td>20,660</td>\n",
       "      <td>24,197</td>\n",
       "      <td>11.5</td>\n",
       "      <td>14.8</td>\n",
       "      <td>3.4</td>\n",
       "    </tr>\n",
       "    <tr>\n",
       "      <th>4</th>\n",
       "      <td>2011</td>\n",
       "      <td>40,711</td>\n",
       "      <td>47,598</td>\n",
       "      <td>39,819</td>\n",
       "      <td>46,555</td>\n",
       "      <td>21,159</td>\n",
       "      <td>24,276</td>\n",
       "      <td>20,695</td>\n",
       "      <td>23,744</td>\n",
       "      <td>10.6</td>\n",
       "      <td>17.2</td>\n",
       "      <td>3.8</td>\n",
       "    </tr>\n",
       "  </tbody>\n",
       "</table>\n",
       "</div>"
      ]
     },
     "metadata": {},
     "execution_count": 19
    }
   ],
   "metadata": {}
  },
  {
   "cell_type": "code",
   "execution_count": 20,
   "source": [
    "income_data=income_data.loc[:,['Year','Median Real Household Disposable Income','Deprivation Rate']]\r\n",
    "\r\n"
   ],
   "outputs": [],
   "metadata": {}
  },
  {
   "cell_type": "code",
   "execution_count": 21,
   "source": [
    "income_data.columns=['Year','Median income','Deprivation rate']"
   ],
   "outputs": [],
   "metadata": {}
  },
  {
   "cell_type": "code",
   "execution_count": 22,
   "source": [
    "data['Year']=data['SALE_DATE'].dt.year\r\n",
    "data['Month']=data['SALE_DATE'].dt.month_name()"
   ],
   "outputs": [],
   "metadata": {}
  },
  {
   "cell_type": "code",
   "execution_count": 23,
   "source": [
    "data=data[data['Year']<2021]\r\n"
   ],
   "outputs": [],
   "metadata": {}
  },
  {
   "cell_type": "markdown",
   "source": [
    "#### Merging the two data frames to include median income and the deprivation rate"
   ],
   "metadata": {}
  },
  {
   "cell_type": "code",
   "execution_count": 24,
   "source": [
    "final_data=pd.merge(data, \r\n",
    " income_data,\r\n",
    " how='inner',\r\n",
    " on='Year')"
   ],
   "outputs": [],
   "metadata": {}
  },
  {
   "cell_type": "markdown",
   "source": [
    "## FINAL DATA:"
   ],
   "metadata": {}
  },
  {
   "cell_type": "code",
   "execution_count": 25,
   "source": [
    "final_data=final_data[final_data['SALE_PRICE']<1000000]\r\n"
   ],
   "outputs": [],
   "metadata": {
    "scrolled": true
   }
  },
  {
   "cell_type": "code",
   "execution_count": 26,
   "source": [
    "final_data"
   ],
   "outputs": [
    {
     "output_type": "execute_result",
     "data": {
      "text/plain": [
       "        SALE_DATE      ADDRESS     COUNTY  SALE_PRICE  IF_MARKET_PRICE  \\\n",
       "0      2010-01-01    Co.Dublin     Dublin    343000.0                0   \n",
       "1      2010-01-03   Portlaoise      Laois    185000.0                0   \n",
       "2      2010-01-04    Dublin 14     Dublin    438500.0                0   \n",
       "3      2010-01-04   Mornington      Meath    400000.0                0   \n",
       "4      2010-01-04     Kilkenny   Kilkenny    160000.0                0   \n",
       "...           ...          ...        ...         ...              ...   \n",
       "457785 2020-12-31       DUBLIN     Dublin    950000.0                0   \n",
       "457786 2020-12-31    DUBLIN 14     Dublin    400000.0                0   \n",
       "457787 2020-12-31    CO. MEATH      Meath    367000.0                0   \n",
       "457789 2020-12-31   BARRACK ST  Roscommon     30000.0                0   \n",
       "457790 2020-12-31         BRAY    Wicklow    497500.0                0   \n",
       "\n",
       "        IF_VAT_EXCLUDED PROPERTY_DESC  MORTGAGE_RATE  Year     Month  \\\n",
       "0                     0   Second-Hand           4.02  2010   January   \n",
       "1                     1           New           4.02  2010   January   \n",
       "2                     0   Second-Hand           4.02  2010   January   \n",
       "3                     0   Second-Hand           4.02  2010   January   \n",
       "4                     0   Second-Hand           4.02  2010   January   \n",
       "...                 ...           ...            ...   ...       ...   \n",
       "457785                0   Second-Hand           2.92  2020  December   \n",
       "457786                0   Second-Hand           2.92  2020  December   \n",
       "457787                0   Second-Hand           2.92  2020  December   \n",
       "457789                0   Second-Hand           2.92  2020  December   \n",
       "457790                0   Second-Hand           2.92  2020  December   \n",
       "\n",
       "       Median income  Deprivation rate  \n",
       "0             41,262              14.8  \n",
       "1             41,262              14.8  \n",
       "2             41,262              14.8  \n",
       "3             41,262              14.8  \n",
       "4             41,262              14.8  \n",
       "...              ...               ...  \n",
       "457785        46,255              10.3  \n",
       "457786        46,255              10.3  \n",
       "457787        46,255              10.3  \n",
       "457789        46,255              10.3  \n",
       "457790        46,255              10.3  \n",
       "\n",
       "[451597 rows x 12 columns]"
      ],
      "text/html": [
       "<div>\n",
       "<style scoped>\n",
       "    .dataframe tbody tr th:only-of-type {\n",
       "        vertical-align: middle;\n",
       "    }\n",
       "\n",
       "    .dataframe tbody tr th {\n",
       "        vertical-align: top;\n",
       "    }\n",
       "\n",
       "    .dataframe thead th {\n",
       "        text-align: right;\n",
       "    }\n",
       "</style>\n",
       "<table border=\"1\" class=\"dataframe\">\n",
       "  <thead>\n",
       "    <tr style=\"text-align: right;\">\n",
       "      <th></th>\n",
       "      <th>SALE_DATE</th>\n",
       "      <th>ADDRESS</th>\n",
       "      <th>COUNTY</th>\n",
       "      <th>SALE_PRICE</th>\n",
       "      <th>IF_MARKET_PRICE</th>\n",
       "      <th>IF_VAT_EXCLUDED</th>\n",
       "      <th>PROPERTY_DESC</th>\n",
       "      <th>MORTGAGE_RATE</th>\n",
       "      <th>Year</th>\n",
       "      <th>Month</th>\n",
       "      <th>Median income</th>\n",
       "      <th>Deprivation rate</th>\n",
       "    </tr>\n",
       "  </thead>\n",
       "  <tbody>\n",
       "    <tr>\n",
       "      <th>0</th>\n",
       "      <td>2010-01-01</td>\n",
       "      <td>Co.Dublin</td>\n",
       "      <td>Dublin</td>\n",
       "      <td>343000.0</td>\n",
       "      <td>0</td>\n",
       "      <td>0</td>\n",
       "      <td>Second-Hand</td>\n",
       "      <td>4.02</td>\n",
       "      <td>2010</td>\n",
       "      <td>January</td>\n",
       "      <td>41,262</td>\n",
       "      <td>14.8</td>\n",
       "    </tr>\n",
       "    <tr>\n",
       "      <th>1</th>\n",
       "      <td>2010-01-03</td>\n",
       "      <td>Portlaoise</td>\n",
       "      <td>Laois</td>\n",
       "      <td>185000.0</td>\n",
       "      <td>0</td>\n",
       "      <td>1</td>\n",
       "      <td>New</td>\n",
       "      <td>4.02</td>\n",
       "      <td>2010</td>\n",
       "      <td>January</td>\n",
       "      <td>41,262</td>\n",
       "      <td>14.8</td>\n",
       "    </tr>\n",
       "    <tr>\n",
       "      <th>2</th>\n",
       "      <td>2010-01-04</td>\n",
       "      <td>Dublin 14</td>\n",
       "      <td>Dublin</td>\n",
       "      <td>438500.0</td>\n",
       "      <td>0</td>\n",
       "      <td>0</td>\n",
       "      <td>Second-Hand</td>\n",
       "      <td>4.02</td>\n",
       "      <td>2010</td>\n",
       "      <td>January</td>\n",
       "      <td>41,262</td>\n",
       "      <td>14.8</td>\n",
       "    </tr>\n",
       "    <tr>\n",
       "      <th>3</th>\n",
       "      <td>2010-01-04</td>\n",
       "      <td>Mornington</td>\n",
       "      <td>Meath</td>\n",
       "      <td>400000.0</td>\n",
       "      <td>0</td>\n",
       "      <td>0</td>\n",
       "      <td>Second-Hand</td>\n",
       "      <td>4.02</td>\n",
       "      <td>2010</td>\n",
       "      <td>January</td>\n",
       "      <td>41,262</td>\n",
       "      <td>14.8</td>\n",
       "    </tr>\n",
       "    <tr>\n",
       "      <th>4</th>\n",
       "      <td>2010-01-04</td>\n",
       "      <td>Kilkenny</td>\n",
       "      <td>Kilkenny</td>\n",
       "      <td>160000.0</td>\n",
       "      <td>0</td>\n",
       "      <td>0</td>\n",
       "      <td>Second-Hand</td>\n",
       "      <td>4.02</td>\n",
       "      <td>2010</td>\n",
       "      <td>January</td>\n",
       "      <td>41,262</td>\n",
       "      <td>14.8</td>\n",
       "    </tr>\n",
       "    <tr>\n",
       "      <th>...</th>\n",
       "      <td>...</td>\n",
       "      <td>...</td>\n",
       "      <td>...</td>\n",
       "      <td>...</td>\n",
       "      <td>...</td>\n",
       "      <td>...</td>\n",
       "      <td>...</td>\n",
       "      <td>...</td>\n",
       "      <td>...</td>\n",
       "      <td>...</td>\n",
       "      <td>...</td>\n",
       "      <td>...</td>\n",
       "    </tr>\n",
       "    <tr>\n",
       "      <th>457785</th>\n",
       "      <td>2020-12-31</td>\n",
       "      <td>DUBLIN</td>\n",
       "      <td>Dublin</td>\n",
       "      <td>950000.0</td>\n",
       "      <td>0</td>\n",
       "      <td>0</td>\n",
       "      <td>Second-Hand</td>\n",
       "      <td>2.92</td>\n",
       "      <td>2020</td>\n",
       "      <td>December</td>\n",
       "      <td>46,255</td>\n",
       "      <td>10.3</td>\n",
       "    </tr>\n",
       "    <tr>\n",
       "      <th>457786</th>\n",
       "      <td>2020-12-31</td>\n",
       "      <td>DUBLIN 14</td>\n",
       "      <td>Dublin</td>\n",
       "      <td>400000.0</td>\n",
       "      <td>0</td>\n",
       "      <td>0</td>\n",
       "      <td>Second-Hand</td>\n",
       "      <td>2.92</td>\n",
       "      <td>2020</td>\n",
       "      <td>December</td>\n",
       "      <td>46,255</td>\n",
       "      <td>10.3</td>\n",
       "    </tr>\n",
       "    <tr>\n",
       "      <th>457787</th>\n",
       "      <td>2020-12-31</td>\n",
       "      <td>CO. MEATH</td>\n",
       "      <td>Meath</td>\n",
       "      <td>367000.0</td>\n",
       "      <td>0</td>\n",
       "      <td>0</td>\n",
       "      <td>Second-Hand</td>\n",
       "      <td>2.92</td>\n",
       "      <td>2020</td>\n",
       "      <td>December</td>\n",
       "      <td>46,255</td>\n",
       "      <td>10.3</td>\n",
       "    </tr>\n",
       "    <tr>\n",
       "      <th>457789</th>\n",
       "      <td>2020-12-31</td>\n",
       "      <td>BARRACK ST</td>\n",
       "      <td>Roscommon</td>\n",
       "      <td>30000.0</td>\n",
       "      <td>0</td>\n",
       "      <td>0</td>\n",
       "      <td>Second-Hand</td>\n",
       "      <td>2.92</td>\n",
       "      <td>2020</td>\n",
       "      <td>December</td>\n",
       "      <td>46,255</td>\n",
       "      <td>10.3</td>\n",
       "    </tr>\n",
       "    <tr>\n",
       "      <th>457790</th>\n",
       "      <td>2020-12-31</td>\n",
       "      <td>BRAY</td>\n",
       "      <td>Wicklow</td>\n",
       "      <td>497500.0</td>\n",
       "      <td>0</td>\n",
       "      <td>0</td>\n",
       "      <td>Second-Hand</td>\n",
       "      <td>2.92</td>\n",
       "      <td>2020</td>\n",
       "      <td>December</td>\n",
       "      <td>46,255</td>\n",
       "      <td>10.3</td>\n",
       "    </tr>\n",
       "  </tbody>\n",
       "</table>\n",
       "<p>451597 rows × 12 columns</p>\n",
       "</div>"
      ]
     },
     "metadata": {},
     "execution_count": 26
    }
   ],
   "metadata": {}
  },
  {
   "cell_type": "code",
   "execution_count": 27,
   "source": [
    "yearly_data=final_data.groupby(['Year','PROPERTY_DESC']).count().iloc[:,0:1].reset_index()"
   ],
   "outputs": [],
   "metadata": {}
  },
  {
   "cell_type": "markdown",
   "source": [
    "Number of new homes sold pales in comparison to second hand homes which would explain the increase i housig prices over the last 8-9 years."
   ],
   "metadata": {}
  },
  {
   "cell_type": "code",
   "execution_count": 28,
   "source": [
    "sns.catplot(data=yearly_data,x='Year',y='SALE_DATE',kind='bar',hue='PROPERTY_DESC',palette='YlOrRd',height=8.27,aspect=11.7/8.27)"
   ],
   "outputs": [
    {
     "output_type": "execute_result",
     "data": {
      "text/plain": [
       "<seaborn.axisgrid.FacetGrid at 0x1b311c7a448>"
      ]
     },
     "metadata": {},
     "execution_count": 28
    },
    {
     "output_type": "display_data",
     "data": {
      "text/plain": [
       "<Figure size 939.775x595.44 with 1 Axes>"
      ],
      "image/png": "[encoded data removed]"
     },
     "metadata": {
      "needs_background": "light"
     }
    }
   ],
   "metadata": {}
  },
  {
   "cell_type": "markdown",
   "source": [
    "During the period of increasing housing prices from 2012 onwards new homes sold for a higher amount compared to second hand homes on average."
   ],
   "metadata": {}
  },
  {
   "cell_type": "code",
   "execution_count": 29,
   "source": [
    "\r\n",
    "g=sns.catplot(x=\"Year\", y=\"SALE_PRICE\", kind=\"violin\", data=final_data,palette='Spectral',hue='PROPERTY_DESC',height=8.27,aspect=11.7/8.27)\r\n",
    "\r\n",
    "plt.title(\"SALE PRICES VS YEAR\")\r\n",
    "g.set_xticklabels(rotation=90)\r\n"
   ],
   "outputs": [
    {
     "output_type": "execute_result",
     "data": {
      "text/plain": [
       "<seaborn.axisgrid.FacetGrid at 0x1b311c74388>"
      ]
     },
     "metadata": {},
     "execution_count": 29
    },
    {
     "output_type": "display_data",
     "data": {
      "text/plain": [
       "<Figure size 939.775x595.44 with 1 Axes>"
      ],
      "image/png": "[encoded data removed]"
     },
     "metadata": {
      "needs_background": "light"
     }
    }
   ],
   "metadata": {}
  },
  {
   "cell_type": "code",
   "execution_count": 37,
   "source": [
    "First_5_years=final_data[final_data['Year']<2015]\r\n",
    "sns.set_palette(\"OrRd\")\r\n",
    "figure(figsize=(8, 6), dpi=80)\r\n",
    "sns.distplot(First_5_years.SALE_PRICE,kde=False,bins=40)\r\n",
    "plt.title(\"DISTRIBUTION OF SALE PRICES\" )"
   ],
   "outputs": [
    {
     "output_type": "stream",
     "name": "stderr",
     "text": [
      "C:\\Users\\leand\\Anaconda3\\lib\\site-packages\\seaborn\\distributions.py:2557: FutureWarning: `distplot` is a deprecated function and will be removed in a future version. Please adapt your code to use either `displot` (a figure-level function with similar flexibility) or `histplot` (an axes-level function for histograms).\n",
      "  warnings.warn(msg, FutureWarning)\n"
     ]
    },
    {
     "output_type": "execute_result",
     "data": {
      "text/plain": [
       "Text(0.5, 1.0, 'DISTRIBUTION OF SALE PRICES')"
      ]
     },
     "metadata": {},
     "execution_count": 37
    },
    {
     "output_type": "display_data",
     "data": {
      "text/plain": [
       "<Figure size 640x480 with 1 Axes>"
      ],
      "image/png": "[encoded data removed]"
     },
     "metadata": {}
    }
   ],
   "metadata": {}
  },
  {
   "cell_type": "code",
   "execution_count": 31,
   "source": [
    "Last_5_years=final_data[final_data['Year']>2015]\r\n",
    "\r\n",
    "figure(figsize=(8, 6), dpi=80)\r\n",
    "sns.distplot(Last_5_years.SALE_PRICE,kde=True,bins=40,color='r')\r\n",
    "plt.title(\"DISTRIBUTION OF SALE PRICES\" )"
   ],
   "outputs": [
    {
     "output_type": "stream",
     "name": "stderr",
     "text": [
      "C:\\Users\\leand\\Anaconda3\\lib\\site-packages\\seaborn\\distributions.py:2557: FutureWarning: `distplot` is a deprecated function and will be removed in a future version. Please adapt your code to use either `displot` (a figure-level function with similar flexibility) or `histplot` (an axes-level function for histograms).\n",
      "  warnings.warn(msg, FutureWarning)\n"
     ]
    },
    {
     "output_type": "execute_result",
     "data": {
      "text/plain": [
       "Text(0.5, 1.0, 'DISTRIBUTION OF SALE PRICES')"
      ]
     },
     "metadata": {},
     "execution_count": 31
    },
    {
     "output_type": "display_data",
     "data": {
      "text/plain": [
       "<Figure size 640x480 with 1 Axes>"
      ],
      "image/png": "[encoded data removed]"
     },
     "metadata": {
      "needs_background": "light"
     }
    }
   ],
   "metadata": {}
  },
  {
   "cell_type": "markdown",
   "source": [
    "An overwhelming majority of homes sold over market price whether new or second hand. This could indicate a lack of supply of new homes being constructed."
   ],
   "metadata": {}
  },
  {
   "cell_type": "code",
   "execution_count": 32,
   "source": [
    "sns.catplot(data=final_data,x='IF_MARKET_PRICE',palette='Set2',col='PROPERTY_DESC',kind='count')"
   ],
   "outputs": [
    {
     "output_type": "execute_result",
     "data": {
      "text/plain": [
       "<seaborn.axisgrid.FacetGrid at 0x1b3219afac8>"
      ]
     },
     "metadata": {},
     "execution_count": 32
    },
    {
     "output_type": "display_data",
     "data": {
      "text/plain": [
       "<Figure size 720x360 with 2 Axes>"
      ],
      "image/png": "[encoded data removed]"
     },
     "metadata": {
      "needs_background": "light"
     }
    }
   ],
   "metadata": {}
  },
  {
   "cell_type": "markdown",
   "source": [
    "There is positive correlation between the deprivation rate and icrease in mortgage rates but it cant be said for sure that an icrease in mortgage payments causes unaffordability in other areas to o up."
   ],
   "metadata": {}
  },
  {
   "cell_type": "code",
   "execution_count": 33,
   "source": [
    "sns.set_style(\"whitegrid\")\r\n",
    "figure(figsize=(8, 6), dpi=80)\r\n",
    "sns.regplot(y=\"Deprivation rate\", x=\"MORTGAGE_RATE\", data=final_data )"
   ],
   "outputs": [
    {
     "output_type": "execute_result",
     "data": {
      "text/plain": [
       "<AxesSubplot:xlabel='MORTGAGE_RATE', ylabel='Deprivation rate'>"
      ]
     },
     "metadata": {},
     "execution_count": 33
    },
    {
     "output_type": "display_data",
     "data": {
      "text/plain": [
       "<Figure size 640x480 with 1 Axes>"
      ],
      "image/png": "[encoded data removed]"
     },
     "metadata": {}
    }
   ],
   "metadata": {}
  },
  {
   "cell_type": "code",
   "execution_count": 34,
   "source": [
    "\r\n",
    "g=sns.catplot(x=\"PROPERTY_DESC\", y=\"SALE_PRICE\", kind=\"box\", data=final_data,palette='BuGn')\r\n",
    "plt.title(\"SALE PRICES VS PROPERTY\")"
   ],
   "outputs": [
    {
     "output_type": "execute_result",
     "data": {
      "text/plain": [
       "Text(0.5, 1.0, 'SALE PRICES VS PROPERTY')"
      ]
     },
     "metadata": {},
     "execution_count": 34
    },
    {
     "output_type": "display_data",
     "data": {
      "text/plain": [
       "<Figure size 360x360 with 1 Axes>"
      ],
      "image/png": "[encoded data removed]"
     },
     "metadata": {}
    }
   ],
   "metadata": {}
  }
 ],
 "metadata": {
  "kernelspec": {
   "name": "python3",
   "display_name": "Python 3.7.4 64-bit ('base': conda)"
  },
  "language_info": {
   "codemirror_mode": {
    "name": "ipython",
    "version": 3
   },
   "file_extension": ".py",
   "mimetype": "text/x-python",
   "name": "python",
   "nbconvert_exporter": "python",
   "pygments_lexer": "ipython3",
   "version": "3.7.4"
  },
  "interpreter": {
   "hash": "fca5be6913a0faed9f7c709ca4c8c7c9355520509dc7c74d53defb480956671f"
  }
 },
 "nbformat": 4,
 "nbformat_minor": 2
}